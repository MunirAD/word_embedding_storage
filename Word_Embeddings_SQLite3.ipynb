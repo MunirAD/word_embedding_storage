{
 "cells": [
  {
   "cell_type": "markdown",
   "metadata": {},
   "source": [
    "# Word Embeddings in SQLite3\n",
    "\n",
    "This example uses the SQLite3 Connector within Python3 to store and retrieve various amounts of Word Embeddings as NumPy arrays."
   ]
  },
  {
   "cell_type": "code",
   "execution_count": 1,
   "metadata": {},
   "outputs": [],
   "source": [
    "import sqlite3\n",
    "import io\n",
    "import os\n",
    "import time\n",
    "import numpy\n",
    "import plotly\n",
    "from tqdm import tqdm_notebook as tqdm"
   ]
  },
  {
   "cell_type": "markdown",
   "metadata": {},
   "source": [
    "# Dummy Embeddings\n",
    "\n",
    "For testing purposes we will use randomly generated numpy arrays as dummy embbeddings."
   ]
  },
  {
   "cell_type": "code",
   "execution_count": 2,
   "metadata": {},
   "outputs": [],
   "source": [
    "def embeddings(n=10, dim=300):\n",
    "    \"\"\"\n",
    "    Yield n tuples of random numpy arrays of *dim* length indexed by *n*\n",
    "    \"\"\"\n",
    "    idx = 0\n",
    "    while idx < n:\n",
    "        yield (str(idx), numpy.random.rand(dim))\n",
    "        idx += 1"
   ]
  },
  {
   "cell_type": "markdown",
   "metadata": {},
   "source": [
    "# SQLite Adapders\n",
    "\n",
    "SQLite only supports a small set of types. To store the NumPy arrays, we will write a custom adapter.\n",
    "\n",
    "For further details see:\n",
    "https://docs.python.org/3/library/sqlite3.html#using-adapters-to-store-additional-python-types-in-sqlite-databases"
   ]
  },
  {
   "cell_type": "code",
   "execution_count": 3,
   "metadata": {},
   "outputs": [],
   "source": [
    "def adapt_array(array):\n",
    "    \"\"\"\n",
    "    Using the numpy.save function to save a binary version of the array,\n",
    "    and BytesIO to catch the stream of data and convert it into a sqlite3.Binary.\n",
    "    \"\"\"\n",
    "    out = io.BytesIO()\n",
    "    numpy.save(out, array)\n",
    "    out.seek(0)\n",
    "\n",
    "    return sqlite3.Binary(out.read())\n",
    "\n",
    "def convert_array(blob):\n",
    "    \"\"\"\n",
    "    Using BytesIO to convert the binary version of the array back into a numpy array.\n",
    "    \"\"\"\n",
    "    out = io.BytesIO(blob)\n",
    "    out.seek(0)\n",
    "\n",
    "    return numpy.load(out)\n",
    "\n",
    "# Register the new adapters\n",
    "sqlite3.register_adapter(numpy.ndarray, adapt_array)\n",
    "sqlite3.register_converter('array', convert_array)"
   ]
  },
  {
   "cell_type": "code",
   "execution_count": 4,
   "metadata": {},
   "outputs": [],
   "source": [
    "# Connect to a local database and create a table for the embeddings\n",
    "connection = sqlite3.connect('./sqlite.embedding.db', detect_types=sqlite3.PARSE_DECLTYPES)\n",
    "cursor = connection.cursor()\n",
    "cursor.execute('CREATE TABLE IF NOT EXISTS embeddings (key text, embedding array)')\n",
    "connection.commit()"
   ]
  },
  {
   "cell_type": "code",
   "execution_count": 5,
   "metadata": {},
   "outputs": [
    {
     "name": "stdout",
     "output_type": "stream",
     "text": [
      "CPU times: user 25 ms, sys: 597 µs, total: 25.6 ms\n",
      "Wall time: 870 ms\n"
     ]
    }
   ],
   "source": [
    "%%time\n",
    "# Insert n = 1000 dummy embeddings into the database\n",
    "for key, emb in embeddings():\n",
    "    cursor.execute('INSERT INTO embeddings (key, embedding) VALUES (?, ?)', [key, emb])\n",
    "    connection.commit()"
   ]
  },
  {
   "cell_type": "code",
   "execution_count": 6,
   "metadata": {},
   "outputs": [
    {
     "name": "stdout",
     "output_type": "stream",
     "text": [
      "CPU times: user 15.2 ms, sys: 0 ns, total: 15.2 ms\n",
      "Wall time: 58.4 ms\n"
     ]
    }
   ],
   "source": [
    "%%time\n",
    "# Select n = 1000 dummy embeddings from the database\n",
    "for key, _ in embeddings():\n",
    "    cursor.execute('SELECT * FROM embeddings WHERE key=?', (key,))\n",
    "    data = cursor.fetchone()\n",
    "    assert(type(data[1]) is numpy.ndarray)"
   ]
  },
  {
   "cell_type": "code",
   "execution_count": 7,
   "metadata": {},
   "outputs": [
    {
     "name": "stdout",
     "output_type": "stream",
     "text": [
      "SQLite database size in MB: 0.046875\n"
     ]
    }
   ],
   "source": [
    "# Database size for n = 1000 entries\n",
    "\n",
    "db_size = os.path.getsize('./sqlite.embedding.db')\n",
    "print('SQLite database size in MB: {}'.format(db_size / 1024 / 1024))"
   ]
  },
  {
   "cell_type": "markdown",
   "metadata": {},
   "source": [
    "# Sample some data\n",
    "\n",
    "To test the I/O we will write and read some data from the database. This may take a while."
   ]
  },
  {
   "cell_type": "code",
   "execution_count": 8,
   "metadata": {},
   "outputs": [
    {
     "data": {
      "application/vnd.jupyter.widget-view+json": {
       "model_id": "b6aa2acef7e64f9fb226cb0796282d72",
       "version_major": 2,
       "version_minor": 0
      },
      "text/plain": [
       "HBox(children=(IntProgress(value=0, max=500), HTML(value='')))"
      ]
     },
     "metadata": {},
     "output_type": "display_data"
    },
    {
     "name": "stdout",
     "output_type": "stream",
     "text": [
      "\n"
     ]
    },
    {
     "data": {
      "application/vnd.jupyter.widget-view+json": {
       "model_id": "89c534d7cda74b468a4ec9076ef29dc5",
       "version_major": 2,
       "version_minor": 0
      },
      "text/plain": [
       "HBox(children=(IntProgress(value=0, max=1000), HTML(value='')))"
      ]
     },
     "metadata": {},
     "output_type": "display_data"
    },
    {
     "name": "stdout",
     "output_type": "stream",
     "text": [
      "\n"
     ]
    },
    {
     "data": {
      "application/vnd.jupyter.widget-view+json": {
       "model_id": "e91e66957959495194a1604f67c09530",
       "version_major": 2,
       "version_minor": 0
      },
      "text/plain": [
       "HBox(children=(IntProgress(value=0, max=2000), HTML(value='')))"
      ]
     },
     "metadata": {},
     "output_type": "display_data"
    },
    {
     "name": "stdout",
     "output_type": "stream",
     "text": [
      "\n"
     ]
    },
    {
     "data": {
      "application/vnd.jupyter.widget-view+json": {
       "model_id": "ff09cb1a9b8b43d387090b726aa4a950",
       "version_major": 2,
       "version_minor": 0
      },
      "text/plain": [
       "HBox(children=(IntProgress(value=0, max=3000), HTML(value='')))"
      ]
     },
     "metadata": {},
     "output_type": "display_data"
    },
    {
     "name": "stdout",
     "output_type": "stream",
     "text": [
      "\n"
     ]
    },
    {
     "data": {
      "application/vnd.jupyter.widget-view+json": {
       "model_id": "8282c2673ac9409e80a868dd5ac4e9c8",
       "version_major": 2,
       "version_minor": 0
      },
      "text/plain": [
       "HBox(children=(IntProgress(value=0, max=4000), HTML(value='')))"
      ]
     },
     "metadata": {},
     "output_type": "display_data"
    },
    {
     "name": "stdout",
     "output_type": "stream",
     "text": [
      "\n"
     ]
    },
    {
     "data": {
      "application/vnd.jupyter.widget-view+json": {
       "model_id": "d3155c5b57fb4e17a895c766e173d468",
       "version_major": 2,
       "version_minor": 0
      },
      "text/plain": [
       "HBox(children=(IntProgress(value=0, max=5000), HTML(value='')))"
      ]
     },
     "metadata": {},
     "output_type": "display_data"
    },
    {
     "name": "stdout",
     "output_type": "stream",
     "text": [
      "\n",
      "DONE\n"
     ]
    }
   ],
   "source": [
    "write_times = []\n",
    "read_times = []\n",
    "db_sizes = []\n",
    "counts = [500, 1000, 2000, 3000, 4000, 5000]\n",
    "\n",
    "for c in counts:\n",
    "    cursor.execute('DROP TABLE embeddings')\n",
    "    cursor.execute('CREATE TABLE IF NOT EXISTS embeddings (key text, embedding array)')\n",
    "    connection.commit()\n",
    "    \n",
    "    start_time_write = time.time()\n",
    "    for key, emb in tqdm(embeddings(c), total=c):\n",
    "        cursor.execute('INSERT INTO embeddings (key, embedding) VALUES (?, ?)', [key, emb])\n",
    "        connection.commit()\n",
    "    write_times.append(time.time() - start_time_write)\n",
    "    \n",
    "    start_time_read = time.time()\n",
    "    for key, emb in embeddings(c):\n",
    "        cursor.execute('SELECT * FROM embeddings WHERE key=?', (key,))\n",
    "        data = cursor.fetchone()\n",
    "    read_times.append(time.time() - start_time_read)\n",
    "    \n",
    "    db_sizes.append(os.path.getsize('./sqlite.embedding.db'))   \n",
    "    \n",
    "print('DONE')"
   ]
  },
  {
   "cell_type": "markdown",
   "metadata": {},
   "source": [
    "# Results"
   ]
  },
  {
   "cell_type": "code",
   "execution_count": 13,
   "metadata": {},
   "outputs": [
    {
     "data": {
      "text/html": [
       "<script>requirejs.config({paths: { 'plotly': ['https://cdn.plot.ly/plotly-latest.min']},});if(!window.Plotly) {{require(['plotly'],function(plotly) {window.Plotly=plotly;});}}</script>"
      ],
      "text/vnd.plotly.v1+html": [
       "<script>requirejs.config({paths: { 'plotly': ['https://cdn.plot.ly/plotly-latest.min']},});if(!window.Plotly) {{require(['plotly'],function(plotly) {window.Plotly=plotly;});}}</script>"
      ]
     },
     "metadata": {},
     "output_type": "display_data"
    },
    {
     "data": {
      "application/vnd.plotly.v1+json": {
       "data": [
        {
         "mode": "lines+markers",
         "type": "scatter",
         "uid": "619e08c6-afa6-11e8-99fb-94b86d86a98e",
         "x": [
          120.99484276771545,
          234.68943977355957,
          491.8207950592041,
          576.3899323940277,
          792.887344121933,
          987.8155264854431
         ],
         "y": [
          500,
          1000,
          2000,
          3000,
          4000,
          5000
         ]
        }
       ],
       "layout": {
        "title": "SQLite3 Write Times",
        "xaxis": {
         "title": "Time in Seconds"
        },
        "yaxis": {
         "title": "Embedding Count"
        }
       }
      },
      "text/html": [
       "<div id=\"3da5ef70-bed5-40f2-a379-80970f020029\" style=\"height: 525px; width: 100%;\" class=\"plotly-graph-div\"></div><script type=\"text/javascript\">require([\"plotly\"], function(Plotly) { window.PLOTLYENV=window.PLOTLYENV || {};window.PLOTLYENV.BASE_URL=\"https://plot.ly\";\n",
       "        Plotly.plot(\n",
       "            '3da5ef70-bed5-40f2-a379-80970f020029',\n",
       "            [{\"mode\": \"lines+markers\", \"x\": [120.99484276771545, 234.68943977355957, 491.8207950592041, 576.3899323940277, 792.887344121933, 987.8155264854431], \"y\": [500, 1000, 2000, 3000, 4000, 5000], \"type\": \"scatter\", \"uid\": \"619e08c6-afa6-11e8-99fb-94b86d86a98e\"}],\n",
       "            {\"title\": \"SQLite3 Write Times\", \"xaxis\": {\"title\": \"Time in Seconds\"}, \"yaxis\": {\"title\": \"Embedding Count\"}},\n",
       "            {\"showLink\": true, \"linkText\": \"Export to plot.ly\"}\n",
       "        ).then(function () {return Plotly.addFrames('3da5ef70-bed5-40f2-a379-80970f020029',{});}).then(function(){Plotly.animate('3da5ef70-bed5-40f2-a379-80970f020029');})\n",
       "        });</script>"
      ],
      "text/vnd.plotly.v1+html": [
       "<div id=\"3da5ef70-bed5-40f2-a379-80970f020029\" style=\"height: 525px; width: 100%;\" class=\"plotly-graph-div\"></div><script type=\"text/javascript\">require([\"plotly\"], function(Plotly) { window.PLOTLYENV=window.PLOTLYENV || {};window.PLOTLYENV.BASE_URL=\"https://plot.ly\";\n",
       "        Plotly.plot(\n",
       "            '3da5ef70-bed5-40f2-a379-80970f020029',\n",
       "            [{\"mode\": \"lines+markers\", \"x\": [120.99484276771545, 234.68943977355957, 491.8207950592041, 576.3899323940277, 792.887344121933, 987.8155264854431], \"y\": [500, 1000, 2000, 3000, 4000, 5000], \"type\": \"scatter\", \"uid\": \"619e08c6-afa6-11e8-99fb-94b86d86a98e\"}],\n",
       "            {\"title\": \"SQLite3 Write Times\", \"xaxis\": {\"title\": \"Time in Seconds\"}, \"yaxis\": {\"title\": \"Embedding Count\"}},\n",
       "            {\"showLink\": true, \"linkText\": \"Export to plot.ly\"}\n",
       "        ).then(function () {return Plotly.addFrames('3da5ef70-bed5-40f2-a379-80970f020029',{});}).then(function(){Plotly.animate('3da5ef70-bed5-40f2-a379-80970f020029');})\n",
       "        });</script>"
      ]
     },
     "metadata": {},
     "output_type": "display_data"
    }
   ],
   "source": [
    "# Write Times\n",
    "plotly.offline.init_notebook_mode(connected=True)\n",
    "trace = plotly.graph_objs.Scatter(\n",
    "    x = write_times,\n",
    "    y = counts,\n",
    "    mode = 'lines+markers'\n",
    ")\n",
    "layout = plotly.graph_objs.Layout(title=\"SQLite3 Write Times\",\n",
    "                xaxis=dict(title='Time in Seconds'),\n",
    "                yaxis=dict(title='Embedding Count'))\n",
    "data = [trace]\n",
    "fig = plotly.graph_objs.Figure(data=data, layout=layout)\n",
    "plotly.offline.iplot(fig, filename='jupyter-basic-scatter')"
   ]
  },
  {
   "cell_type": "code",
   "execution_count": 14,
   "metadata": {},
   "outputs": [
    {
     "data": {
      "text/html": [
       "<script>requirejs.config({paths: { 'plotly': ['https://cdn.plot.ly/plotly-latest.min']},});if(!window.Plotly) {{require(['plotly'],function(plotly) {window.Plotly=plotly;});}}</script>"
      ],
      "text/vnd.plotly.v1+html": [
       "<script>requirejs.config({paths: { 'plotly': ['https://cdn.plot.ly/plotly-latest.min']},});if(!window.Plotly) {{require(['plotly'],function(plotly) {window.Plotly=plotly;});}}</script>"
      ]
     },
     "metadata": {},
     "output_type": "display_data"
    },
    {
     "data": {
      "application/vnd.plotly.v1+json": {
       "data": [
        {
         "mode": "lines+markers",
         "type": "scatter",
         "uid": "64503bde-afa6-11e8-99fb-94b86d86a98e",
         "x": [
          0.32979297637939453,
          1.3668241500854492,
          5.353104829788208,
          12.157445192337036,
          20.46558403968811,
          31.69059443473816
         ],
         "y": [
          500,
          1000,
          2000,
          3000,
          4000,
          5000
         ]
        }
       ],
       "layout": {
        "title": "SQLite3 Read Times",
        "xaxis": {
         "title": "Time in Seconds"
        },
        "yaxis": {
         "title": "Embedding Count"
        }
       }
      },
      "text/html": [
       "<div id=\"ac4159bd-cc4f-49a6-9c71-55c6aa747f83\" style=\"height: 525px; width: 100%;\" class=\"plotly-graph-div\"></div><script type=\"text/javascript\">require([\"plotly\"], function(Plotly) { window.PLOTLYENV=window.PLOTLYENV || {};window.PLOTLYENV.BASE_URL=\"https://plot.ly\";\n",
       "        Plotly.plot(\n",
       "            'ac4159bd-cc4f-49a6-9c71-55c6aa747f83',\n",
       "            [{\"mode\": \"lines+markers\", \"x\": [0.32979297637939453, 1.3668241500854492, 5.353104829788208, 12.157445192337036, 20.46558403968811, 31.69059443473816], \"y\": [500, 1000, 2000, 3000, 4000, 5000], \"type\": \"scatter\", \"uid\": \"64503bde-afa6-11e8-99fb-94b86d86a98e\"}],\n",
       "            {\"title\": \"SQLite3 Read Times\", \"xaxis\": {\"title\": \"Time in Seconds\"}, \"yaxis\": {\"title\": \"Embedding Count\"}},\n",
       "            {\"showLink\": true, \"linkText\": \"Export to plot.ly\"}\n",
       "        ).then(function () {return Plotly.addFrames('ac4159bd-cc4f-49a6-9c71-55c6aa747f83',{});}).then(function(){Plotly.animate('ac4159bd-cc4f-49a6-9c71-55c6aa747f83');})\n",
       "        });</script>"
      ],
      "text/vnd.plotly.v1+html": [
       "<div id=\"ac4159bd-cc4f-49a6-9c71-55c6aa747f83\" style=\"height: 525px; width: 100%;\" class=\"plotly-graph-div\"></div><script type=\"text/javascript\">require([\"plotly\"], function(Plotly) { window.PLOTLYENV=window.PLOTLYENV || {};window.PLOTLYENV.BASE_URL=\"https://plot.ly\";\n",
       "        Plotly.plot(\n",
       "            'ac4159bd-cc4f-49a6-9c71-55c6aa747f83',\n",
       "            [{\"mode\": \"lines+markers\", \"x\": [0.32979297637939453, 1.3668241500854492, 5.353104829788208, 12.157445192337036, 20.46558403968811, 31.69059443473816], \"y\": [500, 1000, 2000, 3000, 4000, 5000], \"type\": \"scatter\", \"uid\": \"64503bde-afa6-11e8-99fb-94b86d86a98e\"}],\n",
       "            {\"title\": \"SQLite3 Read Times\", \"xaxis\": {\"title\": \"Time in Seconds\"}, \"yaxis\": {\"title\": \"Embedding Count\"}},\n",
       "            {\"showLink\": true, \"linkText\": \"Export to plot.ly\"}\n",
       "        ).then(function () {return Plotly.addFrames('ac4159bd-cc4f-49a6-9c71-55c6aa747f83',{});}).then(function(){Plotly.animate('ac4159bd-cc4f-49a6-9c71-55c6aa747f83');})\n",
       "        });</script>"
      ]
     },
     "metadata": {},
     "output_type": "display_data"
    }
   ],
   "source": [
    "# Read Times\n",
    "plotly.offline.init_notebook_mode(connected=True)\n",
    "trace = plotly.graph_objs.Scatter(\n",
    "    x = read_times,\n",
    "    y = counts,\n",
    "    mode = 'lines+markers'\n",
    ")\n",
    "layout = plotly.graph_objs.Layout(title=\"SQLite3 Read Times\",\n",
    "                xaxis=dict(title='Time in Seconds'),\n",
    "                yaxis=dict(title='Embedding Count'))\n",
    "data = [trace]\n",
    "fig = plotly.graph_objs.Figure(data=data, layout=layout)\n",
    "plotly.offline.iplot(fig, filename='jupyter-basic-scatter')"
   ]
  },
  {
   "cell_type": "code",
   "execution_count": 20,
   "metadata": {},
   "outputs": [
    {
     "data": {
      "text/html": [
       "<script>requirejs.config({paths: { 'plotly': ['https://cdn.plot.ly/plotly-latest.min']},});if(!window.Plotly) {{require(['plotly'],function(plotly) {window.Plotly=plotly;});}}</script>"
      ],
      "text/vnd.plotly.v1+html": [
       "<script>requirejs.config({paths: { 'plotly': ['https://cdn.plot.ly/plotly-latest.min']},});if(!window.Plotly) {{require(['plotly'],function(plotly) {window.Plotly=plotly;});}}</script>"
      ]
     },
     "metadata": {},
     "output_type": "display_data"
    },
    {
     "data": {
      "application/vnd.plotly.v1+json": {
       "data": [
        {
         "type": "bar",
         "uid": "9fc677d6-afa7-11e8-99fb-94b86d86a98e",
         "x": [
          500,
          1000,
          2000,
          3000,
          4000,
          5000
         ],
         "y": [
          2008,
          4016,
          8028,
          12036,
          16044,
          20052
         ]
        }
       ],
       "layout": {
        "title": "Database Size",
        "xaxis": {
         "title": "Embedding Count"
        },
        "yaxis": {
         "title": "Size in KB"
        }
       }
      },
      "text/html": [
       "<div id=\"d3751c77-b107-4c8e-89a9-bc0358c5bdb9\" style=\"height: 525px; width: 100%;\" class=\"plotly-graph-div\"></div><script type=\"text/javascript\">require([\"plotly\"], function(Plotly) { window.PLOTLYENV=window.PLOTLYENV || {};window.PLOTLYENV.BASE_URL=\"https://plot.ly\";\n",
       "        Plotly.plot(\n",
       "            'd3751c77-b107-4c8e-89a9-bc0358c5bdb9',\n",
       "            [{\"x\": [500, 1000, 2000, 3000, 4000, 5000], \"y\": [2008.0, 4016.0, 8028.0, 12036.0, 16044.0, 20052.0], \"type\": \"bar\", \"uid\": \"9fc677d6-afa7-11e8-99fb-94b86d86a98e\"}],\n",
       "            {\"title\": \"Database Size\", \"xaxis\": {\"title\": \"Embedding Count\"}, \"yaxis\": {\"title\": \"Size in KB\"}},\n",
       "            {\"showLink\": true, \"linkText\": \"Export to plot.ly\"}\n",
       "        ).then(function () {return Plotly.addFrames('d3751c77-b107-4c8e-89a9-bc0358c5bdb9',{});}).then(function(){Plotly.animate('d3751c77-b107-4c8e-89a9-bc0358c5bdb9');})\n",
       "        });</script>"
      ],
      "text/vnd.plotly.v1+html": [
       "<div id=\"d3751c77-b107-4c8e-89a9-bc0358c5bdb9\" style=\"height: 525px; width: 100%;\" class=\"plotly-graph-div\"></div><script type=\"text/javascript\">require([\"plotly\"], function(Plotly) { window.PLOTLYENV=window.PLOTLYENV || {};window.PLOTLYENV.BASE_URL=\"https://plot.ly\";\n",
       "        Plotly.plot(\n",
       "            'd3751c77-b107-4c8e-89a9-bc0358c5bdb9',\n",
       "            [{\"x\": [500, 1000, 2000, 3000, 4000, 5000], \"y\": [2008.0, 4016.0, 8028.0, 12036.0, 16044.0, 20052.0], \"type\": \"bar\", \"uid\": \"9fc677d6-afa7-11e8-99fb-94b86d86a98e\"}],\n",
       "            {\"title\": \"Database Size\", \"xaxis\": {\"title\": \"Embedding Count\"}, \"yaxis\": {\"title\": \"Size in KB\"}},\n",
       "            {\"showLink\": true, \"linkText\": \"Export to plot.ly\"}\n",
       "        ).then(function () {return Plotly.addFrames('d3751c77-b107-4c8e-89a9-bc0358c5bdb9',{});}).then(function(){Plotly.animate('d3751c77-b107-4c8e-89a9-bc0358c5bdb9');})\n",
       "        });</script>"
      ]
     },
     "metadata": {},
     "output_type": "display_data"
    }
   ],
   "source": [
    "# File Size\n",
    "plotly.offline.init_notebook_mode(connected=True)\n",
    "trace = plotly.graph_objs.Bar(\n",
    "    x = counts,\n",
    "    y = [size/1024 for size in db_sizes]\n",
    ")\n",
    "layout = plotly.graph_objs.Layout(title=\"Database Size\",\n",
    "                yaxis=dict(title='Size in KB'),\n",
    "                xaxis=dict(title='Embedding Count'))\n",
    "data = [trace]\n",
    "fig = plotly.graph_objs.Figure(data=data, layout=layout)\n",
    "plotly.offline.iplot(fig, filename='jupyter-basic_bar')"
   ]
  },
  {
   "cell_type": "code",
   "execution_count": null,
   "metadata": {},
   "outputs": [],
   "source": []
  }
 ],
 "metadata": {
  "kernelspec": {
   "display_name": "Python 3",
   "language": "python",
   "name": "python3"
  },
  "language_info": {
   "codemirror_mode": {
    "name": "ipython",
    "version": 3
   },
   "file_extension": ".py",
   "mimetype": "text/x-python",
   "name": "python",
   "nbconvert_exporter": "python",
   "pygments_lexer": "ipython3",
   "version": "3.6.5"
  }
 },
 "nbformat": 4,
 "nbformat_minor": 2
}
