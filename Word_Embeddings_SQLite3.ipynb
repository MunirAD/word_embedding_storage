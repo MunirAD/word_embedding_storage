{
 "cells": [
  {
   "cell_type": "markdown",
   "metadata": {},
   "source": [
    "# Word Embeddings in SQLite3\n",
    "\n",
    "This example uses the SQLite3 Connector within Python3 to store and retrieve various amounts of Word Embeddings."
   ]
  },
  {
   "cell_type": "code",
   "execution_count": null,
   "metadata": {},
   "outputs": [],
   "source": [
    "import sqlite3\n",
    "import io\n",
    "import time\n",
    "import numpy\n",
    "import plotly"
   ]
  },
  {
   "cell_type": "markdown",
   "metadata": {},
   "source": [
    "# Dummy Embeddings\n",
    "\n",
    "For testing purposes we will use randomly generated numpy arrays as dummy embbeddings. Since loading gigabytes of gensim KeyedVectors is slow and annoying."
   ]
  },
  {
   "cell_type": "code",
   "execution_count": null,
   "metadata": {},
   "outputs": [],
   "source": [
    "def embeddings(n=1000, dim=300):\n",
    "    \"\"\"\n",
    "    Yield n tuples of random numpy arrays of *dim* length indexed by *n*\n",
    "    \"\"\"\n",
    "    idx = 0\n",
    "    while idx < n:\n",
    "        yield (str(idx), numpy.random.rand(dim))\n",
    "        idx += 1"
   ]
  },
  {
   "cell_type": "markdown",
   "metadata": {},
   "source": [
    "# SQLite Adapders"
   ]
  },
  {
   "cell_type": "code",
   "execution_count": null,
   "metadata": {},
   "outputs": [],
   "source": [
    "def adapt_array(array):\n",
    "    \"\"\"\n",
    "    Using the numpy.save function to save a binary version of the array,\n",
    "    and BytesIO to catch the stream of data and convert it into a sqlite3.Binary.\n",
    "    \"\"\"\n",
    "    out = io.BytesIO()\n",
    "    numpy.save(out, array)\n",
    "    out.seek(0)\n",
    "\n",
    "    return sqlite3.Binary(out.read())\n",
    "\n",
    "def convert_array(blob):\n",
    "    \"\"\"\n",
    "    Using BytesIO to convert the binary version of the array back into a numpy array.\n",
    "    \"\"\"\n",
    "    out = io.BytesIO(blob)\n",
    "    out.seek(0)\n",
    "\n",
    "    return numpy.load(out)\n",
    "\n",
    "# Register the new adapters\n",
    "sqlite3.register_adapter(numpy.ndarray, adapt_array)\n",
    "sqlite3.register_converter('array', convert_array)"
   ]
  },
  {
   "cell_type": "code",
   "execution_count": null,
   "metadata": {},
   "outputs": [],
   "source": [
    "connection = sqlite3.connect(':memory:', detect_types=sqlite3.PARSE_DECLTYPES)\n",
    "cursor = connection.cursor()\n",
    "cursor.execute('CREATE TABLE embeddings (key text, embedding array)')"
   ]
  },
  {
   "cell_type": "code",
   "execution_count": null,
   "metadata": {},
   "outputs": [],
   "source": [
    "%%time\n",
    "for key, emb in embeddings():\n",
    "    cursor.execute('INSERT INTO embeddings (key, embedding) VALUES (?, ?)', [key, emb])"
   ]
  },
  {
   "cell_type": "code",
   "execution_count": null,
   "metadata": {},
   "outputs": [],
   "source": [
    "%%time\n",
    "for key, emb in embeddings():\n",
    "    cursor.execute('SELECT * FROM embeddings WHERE key=?', (key,))\n",
    "    data = cursor.fetchone()"
   ]
  },
  {
   "cell_type": "markdown",
   "metadata": {},
   "source": [
    "# Sample some data"
   ]
  },
  {
   "cell_type": "code",
   "execution_count": null,
   "metadata": {},
   "outputs": [],
   "source": [
    "write_times = []\n",
    "read_times = []\n",
    "# counts = [500, 1000, 5000, 10000, 50000, 100000]\n",
    "counts = numpy.logspace(2,5,dtype='int')\n",
    "\n",
    "for c in counts:\n",
    "    cursor.execute('DROP TABLE embeddings')\n",
    "    cursor.execute('CREATE TABLE embeddings (key text, embedding array)')\n",
    "\n",
    "    start_time_write = time.time()\n",
    "    for key, emb in embeddings(c):\n",
    "        cursor.execute('INSERT INTO embeddings (key, embedding) VALUES (?, ?)', [key, emb])\n",
    "    write_times.append(time.time() - start_time_write)\n",
    "    \n",
    "    start_time_read = time.time()\n",
    "    for key, emb in embeddings():\n",
    "        cursor.execute('SELECT * FROM embeddings WHERE key=?', (key,))\n",
    "        data = cursor.fetchone()\n",
    "    read_times.append(time.time() - start_time_read)\n",
    "    \n",
    "print('DONE')"
   ]
  },
  {
   "cell_type": "markdown",
   "metadata": {},
   "source": [
    "# Results"
   ]
  },
  {
   "cell_type": "code",
   "execution_count": null,
   "metadata": {},
   "outputs": [],
   "source": [
    "plotly.offline.init_notebook_mode(connected=True)\n",
    "trace = plotly.graph_objs.Scatter(\n",
    "    x = write_times,\n",
    "    y = counts,\n",
    "    mode = 'markers'\n",
    ")\n",
    "layout = plotly.graph_objs.Layout(title=\"SQLite3 Write Times\",\n",
    "                xaxis=dict(title='Time in Seconds'),\n",
    "                yaxis=dict(title='Embedding Count'))\n",
    "data = [trace]\n",
    "fig = plotly.graph_objs.Figure(data=data, layout=layout)\n",
    "plotly.offline.iplot(fig, filename='jupyter-basic-scatter')"
   ]
  },
  {
   "cell_type": "code",
   "execution_count": null,
   "metadata": {},
   "outputs": [],
   "source": [
    "plotly.offline.init_notebook_mode(connected=True)\n",
    "trace = plotly.graph_objs.Scatter(\n",
    "    x = read_times,\n",
    "    y = counts,\n",
    "    mode = 'markers'\n",
    ")\n",
    "layout = plotly.graph_objs.Layout(title=\"SQLite3 Read Times\",\n",
    "                xaxis=dict(title='Time in Seconds'),\n",
    "                yaxis=dict(title='Embedding Count'))\n",
    "data = [trace]\n",
    "fig = plotly.graph_objs.Figure(data=data, layout=layout)\n",
    "plotly.offline.iplot(fig, filename='jupyter-basic-scatter')"
   ]
  }
 ],
 "metadata": {
  "kernelspec": {
   "display_name": "Python 3",
   "language": "python",
   "name": "python3"
  },
  "language_info": {
   "codemirror_mode": {
    "name": "ipython",
    "version": 3
   },
   "file_extension": ".py",
   "mimetype": "text/x-python",
   "name": "python",
   "nbconvert_exporter": "python",
   "pygments_lexer": "ipython3",
   "version": "3.6.5"
  }
 },
 "nbformat": 4,
 "nbformat_minor": 2
}
