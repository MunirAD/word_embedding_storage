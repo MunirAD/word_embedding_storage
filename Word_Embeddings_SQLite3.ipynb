{
 "cells": [
  {
   "cell_type": "markdown",
   "metadata": {},
   "source": [
    "# Word Embeddings in SQLite3\n",
    "\n",
    "This example uses the SQLite3 Connector within Python3 to store and retrieve various amounts of Word Embeddings."
   ]
  },
  {
   "cell_type": "code",
   "execution_count": 17,
   "metadata": {},
   "outputs": [],
   "source": [
    "import sqlite3\n",
    "import io\n",
    "import time\n",
    "import numpy\n",
    "import plotly"
   ]
  },
  {
   "cell_type": "markdown",
   "metadata": {},
   "source": [
    "# Dummy Embeddings\n",
    "\n",
    "For testing purposes we will use randomly generated numpy arrays as dummy embbeddings. Since loading gigabytes of gensim KeyedVectors is slow and annoying."
   ]
  },
  {
   "cell_type": "code",
   "execution_count": 18,
   "metadata": {},
   "outputs": [],
   "source": [
    "def embeddings(n=1000, dim=300):\n",
    "    \"\"\"\n",
    "    Yield n tuples of random numpy arrays of *dim* length indexed by *n*\n",
    "    \"\"\"\n",
    "    idx = 0\n",
    "    while idx < n:\n",
    "        yield (str(idx), numpy.random.rand(dim))\n",
    "        idx += 1"
   ]
  },
  {
   "cell_type": "markdown",
   "metadata": {},
   "source": [
    "# SQLite Adapders"
   ]
  },
  {
   "cell_type": "code",
   "execution_count": 19,
   "metadata": {},
   "outputs": [],
   "source": [
    "def adapt_array(array):\n",
    "    \"\"\"\n",
    "    Using the numpy.save function to save a binary version of the array,\n",
    "    and BytesIO to catch the stream of data and convert it into a sqlite3.Binary.\n",
    "    \"\"\"\n",
    "    out = io.BytesIO()\n",
    "    numpy.save(out, array)\n",
    "    out.seek(0)\n",
    "\n",
    "    return sqlite3.Binary(out.read())\n",
    "\n",
    "def convert_array(text):\n",
    "    \"\"\"\n",
    "    Using BytesIO to convert the binary version of the array back into a numpy array.\n",
    "    \"\"\"\n",
    "    out = io.BytesIO(text)\n",
    "    out.seek(0)\n",
    "\n",
    "    return numpy.load(out)\n",
    "\n",
    "# Register the new adapters\n",
    "sqlite3.register_adapter(numpy.ndarray, adapt_array)\n",
    "sqlite3.register_converter('array', convert_array)"
   ]
  },
  {
   "cell_type": "code",
   "execution_count": 20,
   "metadata": {},
   "outputs": [
    {
     "data": {
      "text/plain": [
       "<sqlite3.Cursor at 0x7f0800cbcdc0>"
      ]
     },
     "execution_count": 20,
     "metadata": {},
     "output_type": "execute_result"
    }
   ],
   "source": [
    "connection = sqlite3.connect(':memory:', detect_types=sqlite3.PARSE_DECLTYPES)\n",
    "cursor = connection.cursor()\n",
    "cursor.execute('CREATE TABLE embeddings (key text, embedding array)')"
   ]
  },
  {
   "cell_type": "code",
   "execution_count": 21,
   "metadata": {},
   "outputs": [
    {
     "name": "stdout",
     "output_type": "stream",
     "text": [
      "CPU times: user 154 ms, sys: 119 µs, total: 154 ms\n",
      "Wall time: 151 ms\n"
     ]
    }
   ],
   "source": [
    "%%time\n",
    "for key, emb in embeddings():\n",
    "    cursor.execute('INSERT INTO embeddings (key, embedding) VALUES (?, ?)', [key, emb])"
   ]
  },
  {
   "cell_type": "code",
   "execution_count": 22,
   "metadata": {},
   "outputs": [
    {
     "name": "stdout",
     "output_type": "stream",
     "text": [
      "CPU times: user 259 ms, sys: 119 µs, total: 259 ms\n",
      "Wall time: 258 ms\n"
     ]
    }
   ],
   "source": [
    "%%time\n",
    "for key, emb in embeddings():\n",
    "    cursor.execute('SELECT * FROM embeddings WHERE key=?', (key,))\n",
    "    data = cursor.fetchone()"
   ]
  },
  {
   "cell_type": "markdown",
   "metadata": {},
   "source": [
    "# Sample some data"
   ]
  },
  {
   "cell_type": "code",
   "execution_count": 32,
   "metadata": {},
   "outputs": [
    {
     "name": "stdout",
     "output_type": "stream",
     "text": [
      "DONE\n"
     ]
    }
   ],
   "source": [
    "write_times = []\n",
    "read_times = []\n",
    "# counts = [500, 1000, 5000, 10000, 50000, 100000]\n",
    "counts = numpy.logspace(2,5,dtype='int')\n",
    "\n",
    "for c in counts:\n",
    "    cursor.execute('DROP TABLE embeddings')\n",
    "    cursor.execute('CREATE TABLE embeddings (key text, embedding array)')\n",
    "\n",
    "    start_time_write = time.time()\n",
    "    for key, emb in embeddings(c):\n",
    "        cursor.execute('INSERT INTO embeddings (key, embedding) VALUES (?, ?)', [key, emb])\n",
    "    write_times.append(time.time() - start_time_write)\n",
    "    \n",
    "    start_time_read = time.time()\n",
    "    for key, emb in embeddings():\n",
    "        cursor.execute('SELECT * FROM embeddings WHERE key=?', (key,))\n",
    "        data = cursor.fetchone()\n",
    "    read_times.append(time.time() - start_time_read)\n",
    "    \n",
    "print('DONE')"
   ]
  },
  {
   "cell_type": "markdown",
   "metadata": {},
   "source": [
    "# Results"
   ]
  },
  {
   "cell_type": "code",
   "execution_count": 34,
   "metadata": {},
   "outputs": [
    {
     "data": {
      "text/html": [
       "<script>requirejs.config({paths: { 'plotly': ['https://cdn.plot.ly/plotly-latest.min']},});if(!window.Plotly) {{require(['plotly'],function(plotly) {window.Plotly=plotly;});}}</script>"
      ],
      "text/vnd.plotly.v1+html": [
       "<script>requirejs.config({paths: { 'plotly': ['https://cdn.plot.ly/plotly-latest.min']},});if(!window.Plotly) {{require(['plotly'],function(plotly) {window.Plotly=plotly;});}}</script>"
      ]
     },
     "metadata": {},
     "output_type": "display_data"
    },
    {
     "data": {
      "application/vnd.plotly.v1+json": {
       "data": [
        {
         "mode": "markers",
         "type": "scatter",
         "uid": "42261ab6-ad4d-11e8-96a2-94b86d86a98e",
         "x": [
          0.016788482666015625,
          0.014711856842041016,
          0.016453266143798828,
          0.018633127212524414,
          0.021522998809814453,
          0.024617671966552734,
          0.028404951095581055,
          0.036634206771850586,
          0.039574623107910156,
          0.04335379600524902,
          0.04858040809631348,
          0.05501508712768555,
          0.07106685638427734,
          0.07386898994445801,
          0.08402371406555176,
          0.09593462944030762,
          0.10935068130493164,
          0.12772321701049805,
          0.14827179908752441,
          0.18126559257507324,
          0.19329190254211426,
          0.2229914665222168,
          0.27089667320251465,
          0.30496859550476074,
          0.3459444046020508,
          0.39902496337890625,
          0.46438050270080566,
          0.5266861915588379,
          0.6021606922149658,
          0.6915524005889893,
          0.7997522354125977,
          0.9167251586914062,
          1.0653719902038574,
          1.2332193851470947,
          1.442559003829956,
          1.6420364379882812,
          1.9146015644073486,
          2.2047576904296875,
          2.566939115524292,
          3.366029977798462,
          3.656808614730835,
          4.246790170669556,
          4.675982713699341,
          6.346611499786377,
          6.830799102783203,
          7.945681810379028,
          9.269571781158447,
          10.249808311462402,
          11.045401811599731,
          12.432827472686768
         ],
         "y": [
          500,
          1000,
          5000,
          10000,
          50000,
          100000
         ]
        }
       ],
       "layout": {
        "title": "SQLite3 Write Times",
        "xaxis": {
         "title": "Times"
        },
        "yaxis": {
         "title": "Embedding Count"
        }
       }
      },
      "text/html": [
       "<div id=\"10bb2abe-16e9-4b1a-a9b9-10092d9ff872\" style=\"height: 525px; width: 100%;\" class=\"plotly-graph-div\"></div><script type=\"text/javascript\">require([\"plotly\"], function(Plotly) { window.PLOTLYENV=window.PLOTLYENV || {};window.PLOTLYENV.BASE_URL=\"https://plot.ly\";\n",
       "        Plotly.plot(\n",
       "            '10bb2abe-16e9-4b1a-a9b9-10092d9ff872',\n",
       "            [{\"mode\": \"markers\", \"x\": [0.016788482666015625, 0.014711856842041016, 0.016453266143798828, 0.018633127212524414, 0.021522998809814453, 0.024617671966552734, 0.028404951095581055, 0.036634206771850586, 0.039574623107910156, 0.04335379600524902, 0.04858040809631348, 0.05501508712768555, 0.07106685638427734, 0.07386898994445801, 0.08402371406555176, 0.09593462944030762, 0.10935068130493164, 0.12772321701049805, 0.14827179908752441, 0.18126559257507324, 0.19329190254211426, 0.2229914665222168, 0.27089667320251465, 0.30496859550476074, 0.3459444046020508, 0.39902496337890625, 0.46438050270080566, 0.5266861915588379, 0.6021606922149658, 0.6915524005889893, 0.7997522354125977, 0.9167251586914062, 1.0653719902038574, 1.2332193851470947, 1.442559003829956, 1.6420364379882812, 1.9146015644073486, 2.2047576904296875, 2.566939115524292, 3.366029977798462, 3.656808614730835, 4.246790170669556, 4.675982713699341, 6.346611499786377, 6.830799102783203, 7.945681810379028, 9.269571781158447, 10.249808311462402, 11.045401811599731, 12.432827472686768], \"y\": [500, 1000, 5000, 10000, 50000, 100000], \"type\": \"scatter\", \"uid\": \"42261ab6-ad4d-11e8-96a2-94b86d86a98e\"}],\n",
       "            {\"title\": \"SQLite3 Write Times\", \"xaxis\": {\"title\": \"Times\"}, \"yaxis\": {\"title\": \"Embedding Count\"}},\n",
       "            {\"showLink\": true, \"linkText\": \"Export to plot.ly\"}\n",
       "        ).then(function () {return Plotly.addFrames('10bb2abe-16e9-4b1a-a9b9-10092d9ff872',{});}).then(function(){Plotly.animate('10bb2abe-16e9-4b1a-a9b9-10092d9ff872');})\n",
       "        });</script>"
      ],
      "text/vnd.plotly.v1+html": [
       "<div id=\"10bb2abe-16e9-4b1a-a9b9-10092d9ff872\" style=\"height: 525px; width: 100%;\" class=\"plotly-graph-div\"></div><script type=\"text/javascript\">require([\"plotly\"], function(Plotly) { window.PLOTLYENV=window.PLOTLYENV || {};window.PLOTLYENV.BASE_URL=\"https://plot.ly\";\n",
       "        Plotly.plot(\n",
       "            '10bb2abe-16e9-4b1a-a9b9-10092d9ff872',\n",
       "            [{\"mode\": \"markers\", \"x\": [0.016788482666015625, 0.014711856842041016, 0.016453266143798828, 0.018633127212524414, 0.021522998809814453, 0.024617671966552734, 0.028404951095581055, 0.036634206771850586, 0.039574623107910156, 0.04335379600524902, 0.04858040809631348, 0.05501508712768555, 0.07106685638427734, 0.07386898994445801, 0.08402371406555176, 0.09593462944030762, 0.10935068130493164, 0.12772321701049805, 0.14827179908752441, 0.18126559257507324, 0.19329190254211426, 0.2229914665222168, 0.27089667320251465, 0.30496859550476074, 0.3459444046020508, 0.39902496337890625, 0.46438050270080566, 0.5266861915588379, 0.6021606922149658, 0.6915524005889893, 0.7997522354125977, 0.9167251586914062, 1.0653719902038574, 1.2332193851470947, 1.442559003829956, 1.6420364379882812, 1.9146015644073486, 2.2047576904296875, 2.566939115524292, 3.366029977798462, 3.656808614730835, 4.246790170669556, 4.675982713699341, 6.346611499786377, 6.830799102783203, 7.945681810379028, 9.269571781158447, 10.249808311462402, 11.045401811599731, 12.432827472686768], \"y\": [500, 1000, 5000, 10000, 50000, 100000], \"type\": \"scatter\", \"uid\": \"42261ab6-ad4d-11e8-96a2-94b86d86a98e\"}],\n",
       "            {\"title\": \"SQLite3 Write Times\", \"xaxis\": {\"title\": \"Times\"}, \"yaxis\": {\"title\": \"Embedding Count\"}},\n",
       "            {\"showLink\": true, \"linkText\": \"Export to plot.ly\"}\n",
       "        ).then(function () {return Plotly.addFrames('10bb2abe-16e9-4b1a-a9b9-10092d9ff872',{});}).then(function(){Plotly.animate('10bb2abe-16e9-4b1a-a9b9-10092d9ff872');})\n",
       "        });</script>"
      ]
     },
     "metadata": {},
     "output_type": "display_data"
    }
   ],
   "source": [
    "plotly.offline.init_notebook_mode(connected=True)\n",
    "trace = plotly.graph_objs.Scatter(\n",
    "    x = write_times,\n",
    "    y = count,\n",
    "    mode = 'markers'\n",
    ")\n",
    "layout = plotly.graph_objs.Layout(title=\"SQLite3 Write Times\",\n",
    "                xaxis=dict(title='Times'),\n",
    "                yaxis=dict(title='Embedding Count'))\n",
    "data = [trace]\n",
    "fig = plotly.graph_objs.Figure(data=data, layout=layout)\n",
    "plotly.offline.iplot(fig, filename='jupyter-basic-scatter')"
   ]
  },
  {
   "cell_type": "code",
   "execution_count": 35,
   "metadata": {},
   "outputs": [
    {
     "data": {
      "text/html": [
       "<script>requirejs.config({paths: { 'plotly': ['https://cdn.plot.ly/plotly-latest.min']},});if(!window.Plotly) {{require(['plotly'],function(plotly) {window.Plotly=plotly;});}}</script>"
      ],
      "text/vnd.plotly.v1+html": [
       "<script>requirejs.config({paths: { 'plotly': ['https://cdn.plot.ly/plotly-latest.min']},});if(!window.Plotly) {{require(['plotly'],function(plotly) {window.Plotly=plotly;});}}</script>"
      ]
     },
     "metadata": {},
     "output_type": "display_data"
    },
    {
     "data": {
      "application/vnd.plotly.v1+json": {
       "data": [
        {
         "mode": "markers",
         "type": "scatter",
         "uid": "42261ab7-ad4d-11e8-96a2-94b86d86a98e",
         "x": [
          0.030873537063598633,
          0.03081035614013672,
          0.0337982177734375,
          0.03853154182434082,
          0.043172359466552734,
          0.049376487731933594,
          0.061295509338378906,
          0.06874752044677734,
          0.07723736763000488,
          0.0814657211303711,
          0.09220218658447266,
          0.10704660415649414,
          0.1225743293762207,
          0.13924336433410645,
          0.15851616859436035,
          0.18343496322631836,
          0.20974063873291016,
          0.2716672420501709,
          0.23169302940368652,
          0.24280452728271484,
          0.25190186500549316,
          0.2655003070831299,
          0.3163595199584961,
          0.3033421039581299,
          0.31874656677246094,
          0.3373875617980957,
          0.35359716415405273,
          0.3843200206756592,
          0.41121530532836914,
          0.4688684940338135,
          0.4986543655395508,
          0.5560643672943115,
          0.619373083114624,
          0.6785054206848145,
          0.7620341777801514,
          0.843717098236084,
          0.9784910678863525,
          1.1096975803375244,
          1.459787130355835,
          1.548527717590332,
          1.8146405220031738,
          2.1977362632751465,
          3.0840888023376465,
          4.873365640640259,
          5.298098802566528,
          6.495310306549072,
          6.215174674987793,
          7.589496850967407,
          9.39371371269226,
          9.944350004196167
         ],
         "y": [
          500,
          1000,
          5000,
          10000,
          50000,
          100000
         ]
        }
       ],
       "layout": {
        "title": "SQLite3 Read Times",
        "xaxis": {
         "title": "Times"
        },
        "yaxis": {
         "title": "Embedding Count"
        }
       }
      },
      "text/html": [
       "<div id=\"a8b05adc-1500-407f-923e-a9872072bef1\" style=\"height: 525px; width: 100%;\" class=\"plotly-graph-div\"></div><script type=\"text/javascript\">require([\"plotly\"], function(Plotly) { window.PLOTLYENV=window.PLOTLYENV || {};window.PLOTLYENV.BASE_URL=\"https://plot.ly\";\n",
       "        Plotly.plot(\n",
       "            'a8b05adc-1500-407f-923e-a9872072bef1',\n",
       "            [{\"mode\": \"markers\", \"x\": [0.030873537063598633, 0.03081035614013672, 0.0337982177734375, 0.03853154182434082, 0.043172359466552734, 0.049376487731933594, 0.061295509338378906, 0.06874752044677734, 0.07723736763000488, 0.0814657211303711, 0.09220218658447266, 0.10704660415649414, 0.1225743293762207, 0.13924336433410645, 0.15851616859436035, 0.18343496322631836, 0.20974063873291016, 0.2716672420501709, 0.23169302940368652, 0.24280452728271484, 0.25190186500549316, 0.2655003070831299, 0.3163595199584961, 0.3033421039581299, 0.31874656677246094, 0.3373875617980957, 0.35359716415405273, 0.3843200206756592, 0.41121530532836914, 0.4688684940338135, 0.4986543655395508, 0.5560643672943115, 0.619373083114624, 0.6785054206848145, 0.7620341777801514, 0.843717098236084, 0.9784910678863525, 1.1096975803375244, 1.459787130355835, 1.548527717590332, 1.8146405220031738, 2.1977362632751465, 3.0840888023376465, 4.873365640640259, 5.298098802566528, 6.495310306549072, 6.215174674987793, 7.589496850967407, 9.39371371269226, 9.944350004196167], \"y\": [500, 1000, 5000, 10000, 50000, 100000], \"type\": \"scatter\", \"uid\": \"42261ab7-ad4d-11e8-96a2-94b86d86a98e\"}],\n",
       "            {\"title\": \"SQLite3 Read Times\", \"xaxis\": {\"title\": \"Times\"}, \"yaxis\": {\"title\": \"Embedding Count\"}},\n",
       "            {\"showLink\": true, \"linkText\": \"Export to plot.ly\"}\n",
       "        ).then(function () {return Plotly.addFrames('a8b05adc-1500-407f-923e-a9872072bef1',{});}).then(function(){Plotly.animate('a8b05adc-1500-407f-923e-a9872072bef1');})\n",
       "        });</script>"
      ],
      "text/vnd.plotly.v1+html": [
       "<div id=\"a8b05adc-1500-407f-923e-a9872072bef1\" style=\"height: 525px; width: 100%;\" class=\"plotly-graph-div\"></div><script type=\"text/javascript\">require([\"plotly\"], function(Plotly) { window.PLOTLYENV=window.PLOTLYENV || {};window.PLOTLYENV.BASE_URL=\"https://plot.ly\";\n",
       "        Plotly.plot(\n",
       "            'a8b05adc-1500-407f-923e-a9872072bef1',\n",
       "            [{\"mode\": \"markers\", \"x\": [0.030873537063598633, 0.03081035614013672, 0.0337982177734375, 0.03853154182434082, 0.043172359466552734, 0.049376487731933594, 0.061295509338378906, 0.06874752044677734, 0.07723736763000488, 0.0814657211303711, 0.09220218658447266, 0.10704660415649414, 0.1225743293762207, 0.13924336433410645, 0.15851616859436035, 0.18343496322631836, 0.20974063873291016, 0.2716672420501709, 0.23169302940368652, 0.24280452728271484, 0.25190186500549316, 0.2655003070831299, 0.3163595199584961, 0.3033421039581299, 0.31874656677246094, 0.3373875617980957, 0.35359716415405273, 0.3843200206756592, 0.41121530532836914, 0.4688684940338135, 0.4986543655395508, 0.5560643672943115, 0.619373083114624, 0.6785054206848145, 0.7620341777801514, 0.843717098236084, 0.9784910678863525, 1.1096975803375244, 1.459787130355835, 1.548527717590332, 1.8146405220031738, 2.1977362632751465, 3.0840888023376465, 4.873365640640259, 5.298098802566528, 6.495310306549072, 6.215174674987793, 7.589496850967407, 9.39371371269226, 9.944350004196167], \"y\": [500, 1000, 5000, 10000, 50000, 100000], \"type\": \"scatter\", \"uid\": \"42261ab7-ad4d-11e8-96a2-94b86d86a98e\"}],\n",
       "            {\"title\": \"SQLite3 Read Times\", \"xaxis\": {\"title\": \"Times\"}, \"yaxis\": {\"title\": \"Embedding Count\"}},\n",
       "            {\"showLink\": true, \"linkText\": \"Export to plot.ly\"}\n",
       "        ).then(function () {return Plotly.addFrames('a8b05adc-1500-407f-923e-a9872072bef1',{});}).then(function(){Plotly.animate('a8b05adc-1500-407f-923e-a9872072bef1');})\n",
       "        });</script>"
      ]
     },
     "metadata": {},
     "output_type": "display_data"
    }
   ],
   "source": [
    "plotly.offline.init_notebook_mode(connected=True)\n",
    "trace = plotly.graph_objs.Scatter(\n",
    "    x = read_times,\n",
    "    y = count,\n",
    "    mode = 'markers'\n",
    ")\n",
    "layout = plotly.graph_objs.Layout(title=\"SQLite3 Read Times\",\n",
    "                xaxis=dict(title='Times'),\n",
    "                yaxis=dict(title='Embedding Count'))\n",
    "data = [trace]\n",
    "fig = plotly.graph_objs.Figure(data=data, layout=layout)\n",
    "plotly.offline.iplot(fig, filename='jupyter-basic-scatter')"
   ]
  },
  {
   "cell_type": "code",
   "execution_count": null,
   "metadata": {},
   "outputs": [],
   "source": []
  }
 ],
 "metadata": {
  "kernelspec": {
   "display_name": "Python 3",
   "language": "python",
   "name": "python3"
  },
  "language_info": {
   "codemirror_mode": {
    "name": "ipython",
    "version": 3
   },
   "file_extension": ".py",
   "mimetype": "text/x-python",
   "name": "python",
   "nbconvert_exporter": "python",
   "pygments_lexer": "ipython3",
   "version": "3.6.5"
  }
 },
 "nbformat": 4,
 "nbformat_minor": 2
}
