{
 "cells": [
  {
   "cell_type": "markdown",
   "metadata": {},
   "source": [
    "# Word Embeddings in Postgresql\n",
    "\n",
    "This example uses the Postgresql Connector within Python3 to store and retrieve various amounts of Word Embeddings as NumPy arrays.\n",
    "\n",
    "We will use a local Postgresql database running as a Docker Container for testing purposes. To start the database run:\n",
    "\n",
    "```\n",
    "docker run -ti --rm --name word_psql -e POSTGRES_PASSWORD=mikolov -p 5433:5432 postgres:10.5```"
   ]
  },
  {
   "cell_type": "code",
   "execution_count": 2,
   "metadata": {},
   "outputs": [],
   "source": [
    "import io\n",
    "import os\n",
    "import time\n",
    "import numpy\n",
    "import plotly\n",
    "from tqdm import tqdm_notebook as tqdm\n",
    "import psycopg2\n",
    "from psycopg2.extensions import register_adapter\n",
    "from psycopg2.extras import Json"
   ]
  },
  {
   "cell_type": "markdown",
   "metadata": {},
   "source": [
    "# Dummy Embeddings\n",
    "\n",
    "For testing purposes we will use randomly generated numpy arrays as dummy embbeddings."
   ]
  },
  {
   "cell_type": "code",
   "execution_count": 3,
   "metadata": {},
   "outputs": [],
   "source": [
    "def embeddings(n=10, dim=300):\n",
    "    \"\"\"\n",
    "    Yield n tuples of random numpy arrays of *dim* length indexed by *n*\n",
    "    \"\"\"\n",
    "    idx = 0\n",
    "    while idx < n:\n",
    "        yield (str(idx), numpy.random.rand(dim))\n",
    "        idx += 1"
   ]
  },
  {
   "cell_type": "code",
   "execution_count": 4,
   "metadata": {},
   "outputs": [],
   "source": [
    "def adapt_numpy_ndarray(numpy_ndarray):\n",
    "    \"\"\"\n",
    "    Transform NumPy Array to bjson\n",
    "    \"\"\"\n",
    "    return Json(numpy_ndarray.tolist())"
   ]
  },
  {
   "cell_type": "code",
   "execution_count": 6,
   "metadata": {},
   "outputs": [],
   "source": [
    "connection = psycopg2.connect(\"host=localhost user=postgres password=mikolov port=5433\")\n",
    "register_adapter(numpy.ndarray, adapt_numpy_ndarray)\n",
    "cursor = connection.cursor()\n",
    "cursor.execute('CREATE TABLE embeddings (key varchar, embedding jsonb)')\n",
    "connection.commit()"
   ]
  },
  {
   "cell_type": "code",
   "execution_count": 7,
   "metadata": {},
   "outputs": [
    {
     "name": "stdout",
     "output_type": "stream",
     "text": [
      "CPU times: user 13.7 ms, sys: 4.26 ms, total: 17.9 ms\n",
      "Wall time: 297 ms\n"
     ]
    }
   ],
   "source": [
    "%%time\n",
    "# Insert n = 1000 dummy embeddings into the database\n",
    "for key, emb in embeddings():\n",
    "    cursor.execute('INSERT INTO embeddings (key, embedding) VALUES (%s, %s)', [key, emb])\n",
    "    connection.commit()"
   ]
  },
  {
   "cell_type": "code",
   "execution_count": 8,
   "metadata": {},
   "outputs": [
    {
     "name": "stdout",
     "output_type": "stream",
     "text": [
      "CPU times: user 3.81 ms, sys: 0 ns, total: 3.81 ms\n",
      "Wall time: 6.42 ms\n"
     ]
    }
   ],
   "source": [
    "%%time\n",
    "# Select n = 1000 dummy embeddings from the database\n",
    "for key, _ in embeddings():\n",
    "    cursor.execute('SELECT key, embedding FROM embeddings WHERE key=%s', (key,))\n",
    "    data = cursor.fetchone()\n",
    "    value = numpy.array(data[1])\n",
    "    assert type(value) is numpy.ndarray\n",
    "    assert len(value) == 300"
   ]
  },
  {
   "cell_type": "markdown",
   "metadata": {},
   "source": [
    "# Sample some data\n",
    "\n",
    "To test the I/O we will write and read some data from the database. This may take a while."
   ]
  },
  {
   "cell_type": "code",
   "execution_count": 10,
   "metadata": {},
   "outputs": [
    {
     "data": {
      "application/vnd.jupyter.widget-view+json": {
       "model_id": "b054e1e401e546fbad55ad1f31781a14",
       "version_major": 2,
       "version_minor": 0
      },
      "text/plain": [
       "HBox(children=(IntProgress(value=0, max=500), HTML(value='')))"
      ]
     },
     "metadata": {},
     "output_type": "display_data"
    },
    {
     "data": {
      "application/vnd.jupyter.widget-view+json": {
       "model_id": "bb8f9948b77647c280afbed9d97d1af1",
       "version_major": 2,
       "version_minor": 0
      },
      "text/plain": [
       "HBox(children=(IntProgress(value=0, max=1000), HTML(value='')))"
      ]
     },
     "metadata": {},
     "output_type": "display_data"
    },
    {
     "data": {
      "application/vnd.jupyter.widget-view+json": {
       "model_id": "9c83019565624a62ab1387f329a6eb8b",
       "version_major": 2,
       "version_minor": 0
      },
      "text/plain": [
       "HBox(children=(IntProgress(value=0, max=2000), HTML(value='')))"
      ]
     },
     "metadata": {},
     "output_type": "display_data"
    },
    {
     "data": {
      "application/vnd.jupyter.widget-view+json": {
       "model_id": "6f2677990b304c38bd24c334e74abd65",
       "version_major": 2,
       "version_minor": 0
      },
      "text/plain": [
       "HBox(children=(IntProgress(value=0, max=3000), HTML(value='')))"
      ]
     },
     "metadata": {},
     "output_type": "display_data"
    },
    {
     "data": {
      "application/vnd.jupyter.widget-view+json": {
       "model_id": "a9f43750893f4b999eea535ce22cfdc3",
       "version_major": 2,
       "version_minor": 0
      },
      "text/plain": [
       "HBox(children=(IntProgress(value=0, max=4000), HTML(value='')))"
      ]
     },
     "metadata": {},
     "output_type": "display_data"
    },
    {
     "data": {
      "application/vnd.jupyter.widget-view+json": {
       "model_id": "161df37def114953a31a87eefc98a625",
       "version_major": 2,
       "version_minor": 0
      },
      "text/plain": [
       "HBox(children=(IntProgress(value=0, max=5000), HTML(value='')))"
      ]
     },
     "metadata": {},
     "output_type": "display_data"
    },
    {
     "name": "stdout",
     "output_type": "stream",
     "text": [
      "DONE\n"
     ]
    }
   ],
   "source": [
    "write_times = []\n",
    "read_times = []\n",
    "db_sizes = []\n",
    "counts = [500, 1000, 2000, 3000, 4000, 5000]\n",
    "\n",
    "for c in counts:\n",
    "    cursor.execute('DROP TABLE embeddings')\n",
    "    cursor.execute('CREATE TABLE IF NOT EXISTS embeddings (key varchar, embedding jsonb)')\n",
    "    connection.commit()\n",
    "    \n",
    "    start_time_write = time.time()\n",
    "    for key, emb in tqdm(embeddings(c), total=c):\n",
    "        cursor.execute('INSERT INTO embeddings (key, embedding) VALUES (%s, %s)', [key, emb])\n",
    "        connection.commit()\n",
    "    write_times.append(time.time() - start_time_write)\n",
    "    \n",
    "    start_time_read = time.time()\n",
    "    for key, emb in embeddings(c):\n",
    "        cursor.execute('SELECT * FROM embeddings WHERE key=%s', (key,))\n",
    "        data = cursor.fetchone()\n",
    "    read_times.append(time.time() - start_time_read) \n",
    "    \n",
    "print('DONE')"
   ]
  },
  {
   "cell_type": "markdown",
   "metadata": {},
   "source": [
    "# Results"
   ]
  },
  {
   "cell_type": "code",
   "execution_count": 11,
   "metadata": {},
   "outputs": [
    {
     "data": {
      "text/html": [
       "<script>requirejs.config({paths: { 'plotly': ['https://cdn.plot.ly/plotly-latest.min']},});if(!window.Plotly) {{require(['plotly'],function(plotly) {window.Plotly=plotly;});}}</script>"
      ],
      "text/vnd.plotly.v1+html": [
       "<script>requirejs.config({paths: { 'plotly': ['https://cdn.plot.ly/plotly-latest.min']},});if(!window.Plotly) {{require(['plotly'],function(plotly) {window.Plotly=plotly;});}}</script>"
      ]
     },
     "metadata": {},
     "output_type": "display_data"
    },
    {
     "data": {
      "application/vnd.plotly.v1+json": {
       "data": [
        {
         "mode": "markers",
         "type": "scatter",
         "uid": "853fac40-af87-11e8-8bf3-94b86d86a98e",
         "x": [
          13.330701112747192,
          43.82352876663208,
          77.78558206558228,
          106.69974684715271,
          154.54727625846863,
          151.69119119644165
         ],
         "y": [
          500,
          1000,
          2000,
          3000,
          4000,
          5000
         ]
        }
       ],
       "layout": {
        "title": "Postgres Write Times",
        "xaxis": {
         "title": "Time in Seconds"
        },
        "yaxis": {
         "title": "Embedding Count"
        }
       }
      },
      "text/html": [
       "<div id=\"132a6243-6a8e-4a0c-a494-ac92ba5ef19b\" style=\"height: 525px; width: 100%;\" class=\"plotly-graph-div\"></div><script type=\"text/javascript\">require([\"plotly\"], function(Plotly) { window.PLOTLYENV=window.PLOTLYENV || {};window.PLOTLYENV.BASE_URL=\"https://plot.ly\";\n",
       "        Plotly.plot(\n",
       "            '132a6243-6a8e-4a0c-a494-ac92ba5ef19b',\n",
       "            [{\"mode\": \"markers\", \"x\": [13.330701112747192, 43.82352876663208, 77.78558206558228, 106.69974684715271, 154.54727625846863, 151.69119119644165], \"y\": [500, 1000, 2000, 3000, 4000, 5000], \"type\": \"scatter\", \"uid\": \"853fac40-af87-11e8-8bf3-94b86d86a98e\"}],\n",
       "            {\"title\": \"Postgres Write Times\", \"xaxis\": {\"title\": \"Time in Seconds\"}, \"yaxis\": {\"title\": \"Embedding Count\"}},\n",
       "            {\"showLink\": true, \"linkText\": \"Export to plot.ly\"}\n",
       "        ).then(function () {return Plotly.addFrames('132a6243-6a8e-4a0c-a494-ac92ba5ef19b',{});}).then(function(){Plotly.animate('132a6243-6a8e-4a0c-a494-ac92ba5ef19b');})\n",
       "        });</script>"
      ],
      "text/vnd.plotly.v1+html": [
       "<div id=\"132a6243-6a8e-4a0c-a494-ac92ba5ef19b\" style=\"height: 525px; width: 100%;\" class=\"plotly-graph-div\"></div><script type=\"text/javascript\">require([\"plotly\"], function(Plotly) { window.PLOTLYENV=window.PLOTLYENV || {};window.PLOTLYENV.BASE_URL=\"https://plot.ly\";\n",
       "        Plotly.plot(\n",
       "            '132a6243-6a8e-4a0c-a494-ac92ba5ef19b',\n",
       "            [{\"mode\": \"markers\", \"x\": [13.330701112747192, 43.82352876663208, 77.78558206558228, 106.69974684715271, 154.54727625846863, 151.69119119644165], \"y\": [500, 1000, 2000, 3000, 4000, 5000], \"type\": \"scatter\", \"uid\": \"853fac40-af87-11e8-8bf3-94b86d86a98e\"}],\n",
       "            {\"title\": \"Postgres Write Times\", \"xaxis\": {\"title\": \"Time in Seconds\"}, \"yaxis\": {\"title\": \"Embedding Count\"}},\n",
       "            {\"showLink\": true, \"linkText\": \"Export to plot.ly\"}\n",
       "        ).then(function () {return Plotly.addFrames('132a6243-6a8e-4a0c-a494-ac92ba5ef19b',{});}).then(function(){Plotly.animate('132a6243-6a8e-4a0c-a494-ac92ba5ef19b');})\n",
       "        });</script>"
      ]
     },
     "metadata": {},
     "output_type": "display_data"
    }
   ],
   "source": [
    "# Write Times\n",
    "plotly.offline.init_notebook_mode(connected=True)\n",
    "trace = plotly.graph_objs.Scatter(\n",
    "    x = write_times,\n",
    "    y = counts,\n",
    "    mode = 'lines+markers'\n",
    ")\n",
    "layout = plotly.graph_objs.Layout(title=\"Postgres Write Times\",\n",
    "                xaxis=dict(title='Time in Seconds'),\n",
    "                yaxis=dict(title='Embedding Count'))\n",
    "data = [trace]\n",
    "fig = plotly.graph_objs.Figure(data=data, layout=layout)\n",
    "plotly.offline.iplot(fig, filename='jupyter-basic-scatter')"
   ]
  },
  {
   "cell_type": "code",
   "execution_count": 14,
   "metadata": {},
   "outputs": [
    {
     "data": {
      "text/html": [
       "<script>requirejs.config({paths: { 'plotly': ['https://cdn.plot.ly/plotly-latest.min']},});if(!window.Plotly) {{require(['plotly'],function(plotly) {window.Plotly=plotly;});}}</script>"
      ],
      "text/vnd.plotly.v1+html": [
       "<script>requirejs.config({paths: { 'plotly': ['https://cdn.plot.ly/plotly-latest.min']},});if(!window.Plotly) {{require(['plotly'],function(plotly) {window.Plotly=plotly;});}}</script>"
      ]
     },
     "metadata": {},
     "output_type": "display_data"
    },
    {
     "data": {
      "application/vnd.plotly.v1+json": {
       "data": [
        {
         "mode": "markers",
         "type": "scatter",
         "uid": "bd4cd856-af87-11e8-8bf3-94b86d86a98e",
         "x": [
          0.20089268684387207,
          0.4085214138031006,
          0.8351507186889648,
          1.530876636505127,
          2.66886305809021,
          3.242460012435913
         ],
         "y": [
          500,
          1000,
          2000,
          3000,
          4000,
          5000
         ]
        }
       ],
       "layout": {
        "title": "Postgres Read Times",
        "xaxis": {
         "title": "Time in Seconds"
        },
        "yaxis": {
         "title": "Embedding Count"
        }
       }
      },
      "text/html": [
       "<div id=\"8162868d-df07-4e25-b94c-c9ab0a4a7197\" style=\"height: 525px; width: 100%;\" class=\"plotly-graph-div\"></div><script type=\"text/javascript\">require([\"plotly\"], function(Plotly) { window.PLOTLYENV=window.PLOTLYENV || {};window.PLOTLYENV.BASE_URL=\"https://plot.ly\";\n",
       "        Plotly.plot(\n",
       "            '8162868d-df07-4e25-b94c-c9ab0a4a7197',\n",
       "            [{\"mode\": \"markers\", \"x\": [0.20089268684387207, 0.4085214138031006, 0.8351507186889648, 1.530876636505127, 2.66886305809021, 3.242460012435913], \"y\": [500, 1000, 2000, 3000, 4000, 5000], \"type\": \"scatter\", \"uid\": \"bd4cd856-af87-11e8-8bf3-94b86d86a98e\"}],\n",
       "            {\"title\": \"Postgres Read Times\", \"xaxis\": {\"title\": \"Time in Seconds\"}, \"yaxis\": {\"title\": \"Embedding Count\"}},\n",
       "            {\"showLink\": true, \"linkText\": \"Export to plot.ly\"}\n",
       "        ).then(function () {return Plotly.addFrames('8162868d-df07-4e25-b94c-c9ab0a4a7197',{});}).then(function(){Plotly.animate('8162868d-df07-4e25-b94c-c9ab0a4a7197');})\n",
       "        });</script>"
      ],
      "text/vnd.plotly.v1+html": [
       "<div id=\"8162868d-df07-4e25-b94c-c9ab0a4a7197\" style=\"height: 525px; width: 100%;\" class=\"plotly-graph-div\"></div><script type=\"text/javascript\">require([\"plotly\"], function(Plotly) { window.PLOTLYENV=window.PLOTLYENV || {};window.PLOTLYENV.BASE_URL=\"https://plot.ly\";\n",
       "        Plotly.plot(\n",
       "            '8162868d-df07-4e25-b94c-c9ab0a4a7197',\n",
       "            [{\"mode\": \"markers\", \"x\": [0.20089268684387207, 0.4085214138031006, 0.8351507186889648, 1.530876636505127, 2.66886305809021, 3.242460012435913], \"y\": [500, 1000, 2000, 3000, 4000, 5000], \"type\": \"scatter\", \"uid\": \"bd4cd856-af87-11e8-8bf3-94b86d86a98e\"}],\n",
       "            {\"title\": \"Postgres Read Times\", \"xaxis\": {\"title\": \"Time in Seconds\"}, \"yaxis\": {\"title\": \"Embedding Count\"}},\n",
       "            {\"showLink\": true, \"linkText\": \"Export to plot.ly\"}\n",
       "        ).then(function () {return Plotly.addFrames('8162868d-df07-4e25-b94c-c9ab0a4a7197',{});}).then(function(){Plotly.animate('8162868d-df07-4e25-b94c-c9ab0a4a7197');})\n",
       "        });</script>"
      ]
     },
     "metadata": {},
     "output_type": "display_data"
    }
   ],
   "source": [
    "# Read Times\n",
    "plotly.offline.init_notebook_mode(connected=True)\n",
    "trace = plotly.graph_objs.Scatter(\n",
    "    x = read_times,\n",
    "    y = counts,\n",
    "    mode = 'lines+markers'\n",
    ")\n",
    "layout = plotly.graph_objs.Layout(title=\"Postgres Read Times\",\n",
    "                xaxis=dict(title='Time in Seconds'),\n",
    "                yaxis=dict(title='Embedding Count'))\n",
    "data = [trace]\n",
    "fig = plotly.graph_objs.Figure(data=data, layout=layout)\n",
    "plotly.offline.iplot(fig, filename='jupyter-basic-scatter')"
   ]
  },
  {
   "cell_type": "code",
   "execution_count": null,
   "metadata": {},
   "outputs": [],
   "source": []
  }
 ],
 "metadata": {
  "kernelspec": {
   "display_name": "Python 3",
   "language": "python",
   "name": "python3"
  },
  "language_info": {
   "codemirror_mode": {
    "name": "ipython",
    "version": 3
   },
   "file_extension": ".py",
   "mimetype": "text/x-python",
   "name": "python",
   "nbconvert_exporter": "python",
   "pygments_lexer": "ipython3",
   "version": "3.6.5"
  }
 },
 "nbformat": 4,
 "nbformat_minor": 2
}
