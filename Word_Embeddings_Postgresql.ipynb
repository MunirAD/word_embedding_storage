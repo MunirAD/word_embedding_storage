{
 "cells": [
  {
   "cell_type": "markdown",
   "metadata": {},
   "source": [
    "# Word Embeddings in Postgresql\n",
    "\n",
    "This example uses the Postgresql Connector within Python3 to store and retrieve various amounts of Word Embeddings as NumPy arrays.",
    "We will use a local MySQL database running as a Docker Container for testing purposes. To start the database run:\n",
    "\n",
    "```\n",
    "docker run -ti --rm --name word_psql -e POSTGRES_PASSWORD=mikolov -p 5433:5432 postgres:10.5",
    "```"
   ]
  },
  {
   "cell_type": "code",
   "execution_count": 1,
   "metadata": {},
   "outputs": [],
   "source": [
    "import io\n",
    "import os\n",
    "import time\n",
    "import numpy\n",
    "import plotly\n",
    "from tqdm import tqdm_notebook as tqdm"
   ]
  },
  {
   "cell_type": "code",
   "execution_count": 2,
   "metadata": {},
   "outputs": [],
   "source": [
    "import psycopg2\n",
    "from psycopg2.extensions import register_adapter\n",
    "from psycopg2.extras import Json"
   ]
  },
  {
   "cell_type": "markdown",
   "metadata": {},
   "source": [
    "# Dummy Embeddings\n",
    "\n",
    "For testing purposes we will use randomly generated numpy arrays as dummy embbeddings."
   ]
  },
  {
   "cell_type": "code",
   "execution_count": 3,
   "metadata": {},
   "outputs": [],
   "source": [
    "def embeddings(n=10, dim=300):\n",
    "    \"\"\"\n",
    "    Yield n tuples of random numpy arrays of *dim* length indexed by *n*\n",
    "    \"\"\"\n",
    "    idx = 0\n",
    "    while idx < n:\n",
    "        yield (str(idx), numpy.random.rand(dim))\n",
    "        idx += 1"
   ]
  },
  {
   "cell_type": "markdown",
   "metadata": {},
   "source": [
    "# SQLite Adapders\n",
    "\n",
    "SQLite only supports a small set of types. To store the NumPy arrays, we will write a custom adapter.\n",
    "\n",
    "For further details see:\n",
    "https://docs.python.org/3/library/sqlite3.html#using-adapters-to-store-additional-python-types-in-sqlite-databases"
   ]
  },
  {
   "cell_type": "code",
   "execution_count": 4,
   "metadata": {},
   "outputs": [],
   "source": [
    "def addapt_numpy_ndarray(numpy_ndarray):\n",
    "    return Json(numpy_ndarray.tolist())\n",
    "\n",
    "\n",
    "connection = psycopg2.connect(\"host=localhost user=postgres password=mikolov port=5433\")\n",
    "register_adapter(numpy.ndarray, addapt_numpy_ndarray)\n",
    "cursor = connection.cursor()"
   ]
  },
  {
   "cell_type": "code",
   "execution_count": 5,
   "metadata": {},
   "outputs": [],
   "source": [
    "cursor.execute('CREATE TABLE embeddings (key varchar, embedding jsonb)')\n",
    "connection.commit()"
   ]
  },
  {
   "cell_type": "code",
   "execution_count": 6,
   "metadata": {},
   "outputs": [
    {
     "name": "stdout",
     "output_type": "stream",
     "text": [
      "CPU times: user 12 ms, sys: 0 ns, total: 12 ms\n",
      "Wall time: 30.1 ms\n"
     ]
    }
   ],
   "source": [
    "%%time\n",
    "# Insert n = 1000 dummy embeddings into the database\n",
    "for key, emb in embeddings():\n",
    "    cursor.execute('INSERT INTO embeddings (key, embedding) VALUES (%s, %s)', [key, emb])\n",
    "    connection.commit()"
   ]
  },
  {
   "cell_type": "code",
   "execution_count": 7,
   "metadata": {},
   "outputs": [
    {
     "name": "stdout",
     "output_type": "stream",
     "text": [
      "CPU times: user 0 ns, sys: 4 ms, total: 4 ms\n",
      "Wall time: 7.96 ms\n"
     ]
    }
   ],
   "source": [
    "%%time\n",
    "# Select n = 1000 dummy embeddings from the database\n",
    "for key, _ in embeddings():\n",
    "    cursor.execute('SELECT key, embedding FROM embeddings WHERE key=%s', (key,))\n",
    "    data = cursor.fetchone()\n",
    "    value = numpy.array(data[1])\n",
    "    assert type(value) is numpy.ndarray\n",
    "    assert len(value) == 300"
   ]
  },
  {
   "cell_type": "markdown",
   "metadata": {},
   "source": [
    "# Sample some data\n",
    "\n",
    "To test the I/O we will write and read some data from the database. This may take a while."
   ]
  },
  {
   "cell_type": "code",
   "execution_count": 8,
   "metadata": {},
   "outputs": [
    {
     "data": {
      "application/vnd.jupyter.widget-view+json": {
       "model_id": "76b3bf5914fb401cbd03db9217244a55",
       "version_major": 2,
       "version_minor": 0
      },
      "text/plain": [
       "HBox(children=(IntProgress(value=0, max=500), HTML(value='')))"
      ]
     },
     "metadata": {},
     "output_type": "display_data"
    },
    {
     "name": "stdout",
     "output_type": "stream",
     "text": [
      "\n"
     ]
    },
    {
     "data": {
      "application/vnd.jupyter.widget-view+json": {
       "model_id": "d1d1951ea71f4daa847037850d32965b",
       "version_major": 2,
       "version_minor": 0
      },
      "text/plain": [
       "HBox(children=(IntProgress(value=0, max=1000), HTML(value='')))"
      ]
     },
     "metadata": {},
     "output_type": "display_data"
    },
    {
     "name": "stdout",
     "output_type": "stream",
     "text": [
      "\n"
     ]
    },
    {
     "data": {
      "application/vnd.jupyter.widget-view+json": {
       "model_id": "b6fbd2bbfdf24ee2beabfac4dd512e4e",
       "version_major": 2,
       "version_minor": 0
      },
      "text/plain": [
       "HBox(children=(IntProgress(value=0, max=5000), HTML(value='')))"
      ]
     },
     "metadata": {},
     "output_type": "display_data"
    },
    {
     "name": "stdout",
     "output_type": "stream",
     "text": [
      "\n"
     ]
    },
    {
     "data": {
      "application/vnd.jupyter.widget-view+json": {
       "model_id": "03250ef7942e48e48141d3ec056f2728",
       "version_major": 2,
       "version_minor": 0
      },
      "text/plain": [
       "HBox(children=(IntProgress(value=0, max=10000), HTML(value='')))"
      ]
     },
     "metadata": {},
     "output_type": "display_data"
    },
    {
     "name": "stdout",
     "output_type": "stream",
     "text": [
      "\n",
      "DONE\n"
     ]
    }
   ],
   "source": [
    "write_times = []\n",
    "read_times = []\n",
    "db_sizes = []\n",
    "counts = [500, 1000, 5000, 10000]  # , 50000, 100000\n",
    "\n",
    "for c in counts:\n",
    "    cursor.execute('DROP TABLE embeddings')\n",
    "    cursor.execute('CREATE TABLE IF NOT EXISTS embeddings (key varchar, embedding jsonb)')\n",
    "    connection.commit()\n",
    "    \n",
    "    start_time_write = time.time()\n",
    "    for key, emb in tqdm(embeddings(c), total=c):\n",
    "        cursor.execute('INSERT INTO embeddings (key, embedding) VALUES (%s, %s)', [key, emb])\n",
    "        connection.commit()\n",
    "    write_times.append(time.time() - start_time_write)\n",
    "    \n",
    "    start_time_read = time.time()\n",
    "    for key, emb in embeddings(c):\n",
    "        cursor.execute('SELECT * FROM embeddings WHERE key=%s', (key,))\n",
    "        data = cursor.fetchone()\n",
    "    read_times.append(time.time() - start_time_read) \n",
    "    \n",
    "print('DONE')"
   ]
  },
  {
   "cell_type": "markdown",
   "metadata": {},
   "source": [
    "# Results"
   ]
  },
  {
   "cell_type": "code",
   "execution_count": 9,
   "metadata": {},
   "outputs": [
    {
     "data": {
      "text/html": [
       "<script>requirejs.config({paths: { 'plotly': ['https://cdn.plot.ly/plotly-latest.min']},});if(!window.Plotly) {{require(['plotly'],function(plotly) {window.Plotly=plotly;});}}</script>"
      ],
      "text/vnd.plotly.v1+html": [
       "<script>requirejs.config({paths: { 'plotly': ['https://cdn.plot.ly/plotly-latest.min']},});if(!window.Plotly) {{require(['plotly'],function(plotly) {window.Plotly=plotly;});}}</script>"
      ]
     },
     "metadata": {},
     "output_type": "display_data"
    },
    {
     "data": {
      "application/vnd.plotly.v1+json": {
       "data": [
        {
         "mode": "markers",
         "type": "scatter",
         "uid": "418ac678-af51-11e8-970d-e4b3184d5332",
         "x": [
          1.9373650550842285,
          3.595198154449463,
          18.652382135391235,
          37.72913932800293
         ],
         "y": [
          500,
          1000,
          5000,
          10000
         ]
        }
       ],
       "layout": {
        "title": "Postgres Write Times",
        "xaxis": {
         "title": "Time in Seconds"
        },
        "yaxis": {
         "title": "Embedding Count"
        }
       }
      },
      "text/html": [
       "<div id=\"8236005a-3086-4f6f-9fba-66f58279102c\" style=\"height: 525px; width: 100%;\" class=\"plotly-graph-div\"></div><script type=\"text/javascript\">require([\"plotly\"], function(Plotly) { window.PLOTLYENV=window.PLOTLYENV || {};window.PLOTLYENV.BASE_URL=\"https://plot.ly\";\n",
       "        Plotly.plot(\n",
       "            '8236005a-3086-4f6f-9fba-66f58279102c',\n",
       "            [{\"uid\": \"418ac678-af51-11e8-970d-e4b3184d5332\", \"type\": \"scatter\", \"mode\": \"markers\", \"y\": [500, 1000, 5000, 10000], \"x\": [1.9373650550842285, 3.595198154449463, 18.652382135391235, 37.72913932800293]}],\n",
       "            {\"yaxis\": {\"title\": \"Embedding Count\"}, \"title\": \"Postgres Write Times\", \"xaxis\": {\"title\": \"Time in Seconds\"}},\n",
       "            {\"showLink\": true, \"linkText\": \"Export to plot.ly\"}\n",
       "        ).then(function () {return Plotly.addFrames('8236005a-3086-4f6f-9fba-66f58279102c',{});}).then(function(){Plotly.animate('8236005a-3086-4f6f-9fba-66f58279102c');})\n",
       "        });</script>"
      ],
      "text/vnd.plotly.v1+html": [
       "<div id=\"8236005a-3086-4f6f-9fba-66f58279102c\" style=\"height: 525px; width: 100%;\" class=\"plotly-graph-div\"></div><script type=\"text/javascript\">require([\"plotly\"], function(Plotly) { window.PLOTLYENV=window.PLOTLYENV || {};window.PLOTLYENV.BASE_URL=\"https://plot.ly\";\n",
       "        Plotly.plot(\n",
       "            '8236005a-3086-4f6f-9fba-66f58279102c',\n",
       "            [{\"uid\": \"418ac678-af51-11e8-970d-e4b3184d5332\", \"type\": \"scatter\", \"mode\": \"markers\", \"y\": [500, 1000, 5000, 10000], \"x\": [1.9373650550842285, 3.595198154449463, 18.652382135391235, 37.72913932800293]}],\n",
       "            {\"yaxis\": {\"title\": \"Embedding Count\"}, \"title\": \"Postgres Write Times\", \"xaxis\": {\"title\": \"Time in Seconds\"}},\n",
       "            {\"showLink\": true, \"linkText\": \"Export to plot.ly\"}\n",
       "        ).then(function () {return Plotly.addFrames('8236005a-3086-4f6f-9fba-66f58279102c',{});}).then(function(){Plotly.animate('8236005a-3086-4f6f-9fba-66f58279102c');})\n",
       "        });</script>"
      ]
     },
     "metadata": {},
     "output_type": "display_data"
    }
   ],
   "source": [
    "# Write Times\n",
    "plotly.offline.init_notebook_mode(connected=True)\n",
    "trace = plotly.graph_objs.Scatter(\n",
    "    x = write_times,\n",
    "    y = counts,\n",
    "    mode = 'markers'\n",
    ")\n",
    "layout = plotly.graph_objs.Layout(title=\"Postgres Write Times\",\n",
    "                xaxis=dict(title='Time in Seconds'),\n",
    "                yaxis=dict(title='Embedding Count'))\n",
    "data = [trace]\n",
    "fig = plotly.graph_objs.Figure(data=data, layout=layout)\n",
    "plotly.offline.iplot(fig, filename='jupyter-basic-scatter')"
   ]
  },
  {
   "cell_type": "code",
   "execution_count": 10,
   "metadata": {},
   "outputs": [
    {
     "data": {
      "text/html": [
       "<script>requirejs.config({paths: { 'plotly': ['https://cdn.plot.ly/plotly-latest.min']},});if(!window.Plotly) {{require(['plotly'],function(plotly) {window.Plotly=plotly;});}}</script>"
      ],
      "text/vnd.plotly.v1+html": [
       "<script>requirejs.config({paths: { 'plotly': ['https://cdn.plot.ly/plotly-latest.min']},});if(!window.Plotly) {{require(['plotly'],function(plotly) {window.Plotly=plotly;});}}</script>"
      ]
     },
     "metadata": {},
     "output_type": "display_data"
    },
    {
     "data": {
      "application/vnd.plotly.v1+json": {
       "data": [
        {
         "mode": "markers",
         "type": "scatter",
         "uid": "418ac679-af51-11e8-970d-e4b3184d5332",
         "x": [
          0.22023224830627441,
          0.510688066482544,
          4.739420652389526,
          12.61116909980774
         ],
         "y": [
          500,
          1000,
          5000,
          10000
         ]
        }
       ],
       "layout": {
        "title": "Postgres Read Times",
        "xaxis": {
         "title": "Time in Seconds"
        },
        "yaxis": {
         "title": "Embedding Count"
        }
       }
      },
      "text/html": [
       "<div id=\"34e6424b-4cbd-49ad-9210-8150c827b644\" style=\"height: 525px; width: 100%;\" class=\"plotly-graph-div\"></div><script type=\"text/javascript\">require([\"plotly\"], function(Plotly) { window.PLOTLYENV=window.PLOTLYENV || {};window.PLOTLYENV.BASE_URL=\"https://plot.ly\";\n",
       "        Plotly.plot(\n",
       "            '34e6424b-4cbd-49ad-9210-8150c827b644',\n",
       "            [{\"uid\": \"418ac679-af51-11e8-970d-e4b3184d5332\", \"type\": \"scatter\", \"mode\": \"markers\", \"y\": [500, 1000, 5000, 10000], \"x\": [0.22023224830627441, 0.510688066482544, 4.739420652389526, 12.61116909980774]}],\n",
       "            {\"yaxis\": {\"title\": \"Embedding Count\"}, \"title\": \"Postgres Read Times\", \"xaxis\": {\"title\": \"Time in Seconds\"}},\n",
       "            {\"showLink\": true, \"linkText\": \"Export to plot.ly\"}\n",
       "        ).then(function () {return Plotly.addFrames('34e6424b-4cbd-49ad-9210-8150c827b644',{});}).then(function(){Plotly.animate('34e6424b-4cbd-49ad-9210-8150c827b644');})\n",
       "        });</script>"
      ],
      "text/vnd.plotly.v1+html": [
       "<div id=\"34e6424b-4cbd-49ad-9210-8150c827b644\" style=\"height: 525px; width: 100%;\" class=\"plotly-graph-div\"></div><script type=\"text/javascript\">require([\"plotly\"], function(Plotly) { window.PLOTLYENV=window.PLOTLYENV || {};window.PLOTLYENV.BASE_URL=\"https://plot.ly\";\n",
       "        Plotly.plot(\n",
       "            '34e6424b-4cbd-49ad-9210-8150c827b644',\n",
       "            [{\"uid\": \"418ac679-af51-11e8-970d-e4b3184d5332\", \"type\": \"scatter\", \"mode\": \"markers\", \"y\": [500, 1000, 5000, 10000], \"x\": [0.22023224830627441, 0.510688066482544, 4.739420652389526, 12.61116909980774]}],\n",
       "            {\"yaxis\": {\"title\": \"Embedding Count\"}, \"title\": \"Postgres Read Times\", \"xaxis\": {\"title\": \"Time in Seconds\"}},\n",
       "            {\"showLink\": true, \"linkText\": \"Export to plot.ly\"}\n",
       "        ).then(function () {return Plotly.addFrames('34e6424b-4cbd-49ad-9210-8150c827b644',{});}).then(function(){Plotly.animate('34e6424b-4cbd-49ad-9210-8150c827b644');})\n",
       "        });</script>"
      ]
     },
     "metadata": {},
     "output_type": "display_data"
    }
   ],
   "source": [
    "# Read Times\n",
    "plotly.offline.init_notebook_mode(connected=True)\n",
    "trace = plotly.graph_objs.Scatter(\n",
    "    x = read_times,\n",
    "    y = counts,\n",
    "    mode = 'markers'\n",
    ")\n",
    "layout = plotly.graph_objs.Layout(title=\"Postgres Read Times\",\n",
    "                xaxis=dict(title='Time in Seconds'),\n",
    "                yaxis=dict(title='Embedding Count'))\n",
    "data = [trace]\n",
    "fig = plotly.graph_objs.Figure(data=data, layout=layout)\n",
    "plotly.offline.iplot(fig, filename='jupyter-basic-scatter')"
   ]
  },
  {
   "cell_type": "code",
   "execution_count": null,
   "metadata": {},
   "outputs": [],
   "source": []
  }
 ],
 "metadata": {
  "kernelspec": {
   "display_name": "Python 3",
   "language": "python",
   "name": "python3"
  },
  "language_info": {
   "codemirror_mode": {
    "name": "ipython",
    "version": 3
   },
   "file_extension": ".py",
   "mimetype": "text/x-python",
   "name": "python",
   "nbconvert_exporter": "python",
   "pygments_lexer": "ipython3",
   "version": "3.5.2"
  }
 },
 "nbformat": 4,
 "nbformat_minor": 2
}
