{
 "cells": [
  {
   "cell_type": "markdown",
   "metadata": {},
   "source": [
    "# Results\n",
    "\n",
    "Hardware: \n",
    " - Intel(R) Core(TM) i7-8550U CPU @ 1.80GHz\n",
    " - Seagate Thin 5400RPM SATA 3Gb/s"
   ]
  },
  {
   "cell_type": "markdown",
   "metadata": {},
   "source": [
    "![WriteTimes](writetimes.png)\n",
    "\n",
    "![ReadTimes](readtimes.png)"
   ]
  },
  {
   "cell_type": "code",
   "execution_count": 3,
   "metadata": {},
   "outputs": [],
   "source": [
    "import plotly\n",
    "import plotly.plotly as py\n",
    "import plotly.graph_objs as go\n",
    "embedding_count = [500, 1000, 2000, 3000, 4000, 5000]"
   ]
  },
  {
   "cell_type": "code",
   "execution_count": 4,
   "metadata": {},
   "outputs": [],
   "source": [
    "postgres_read_times =[0.20089268684387207,\n",
    " 0.4085214138031006,\n",
    " 0.8351507186889648,\n",
    " 1.530876636505127,\n",
    " 2.66886305809021,\n",
    " 3.242460012435913]\n",
    "\n",
    "postgres_write_times = [13.330701112747192,\n",
    " 43.82352876663208,\n",
    " 77.78558206558228,\n",
    " 106.69974684715271,\n",
    " 154.54727625846863,\n",
    " 151.69119119644165]\n",
    "\n",
    "mongo_write_times = [0.3138880729675293,\n",
    " 0.5939149856567383,\n",
    " 1.1943979263305664,\n",
    " 1.6786630153656006,\n",
    " 2.2794220447540283,\n",
    " 2.6830246448516846]\n",
    "\n",
    "mongo_read_times = [0.38869309425354004,\n",
    " 0.8653717041015625,\n",
    " 1.97469162940979,\n",
    " 3.4002814292907715,\n",
    " 5.168785810470581,\n",
    " 7.428738117218018]\n",
    "\n",
    "level_read_times = [0.0985105037689209,\n",
    " 0.19457459449768066,\n",
    " 0.39040303230285645,\n",
    " 0.5678610801696777,\n",
    " 0.7731680870056152,\n",
    " 0.9867994785308838]\n",
    "\n",
    "level_write_times = [0.13895416259765625,\n",
    " 0.17101764678955078,\n",
    " 0.3788294792175293,\n",
    " 0.5008127689361572,\n",
    " 0.7033114433288574,\n",
    " 1.1339409351348877]\n",
    "\n",
    "mysql_read_times = [0.5181713104248047,\n",
    " 1.3684329986572266,\n",
    " 5.713267803192139,\n",
    " 12.329740524291992,\n",
    " 19.260291576385498,\n",
    " 27.02959108352661]\n",
    "\n",
    "mysql_write_times = [59.611292362213135,\n",
    " 148.12936902046204,\n",
    " 231.10561180114746,\n",
    " 370.53470754623413,\n",
    " 511.198233127594,\n",
    " 641.969072341919]\n",
    "\n",
    "sqlite_write_times = [120.99484276771545,\n",
    " 234.68943977355957,\n",
    " 491.8207950592041,\n",
    " 576.3899323940277,\n",
    " 792.887344121933,\n",
    " 987.8155264854431]\n",
    "\n",
    "sqlite_read_times = [0.32979297637939453,\n",
    " 1.3668241500854492,\n",
    " 5.353104829788208,\n",
    " 12.157445192337036,\n",
    " 20.46558403968811,\n",
    " 31.69059443473816]\n",
    "\n",
    "level_db_size_kb = ['1264', '2512', '5012', '7508', '10008', '12512']\n",
    "sqlite_db_size_bytes = [2056192, 4112384, 8220672, 12324864, 16429056, 20533248]"
   ]
  },
  {
   "cell_type": "code",
   "execution_count": 5,
   "metadata": {},
   "outputs": [],
   "source": [
    "mongo_r = go.Scatter(\n",
    "    y = mongo_read_times,\n",
    "    x = embedding_count,\n",
    "    mode = 'lines+markers',\n",
    "    name = 'MongoDB'\n",
    ")\n",
    "\n",
    "level_r = go.Scatter(\n",
    "    y = level_read_times,\n",
    "    x = embedding_count,\n",
    "    mode = 'lines+markers',\n",
    "    name = 'LevelDB'\n",
    ")\n",
    "\n",
    "mysql_r = go.Scatter(\n",
    "    y = mysql_read_times,\n",
    "    x = embedding_count,\n",
    "    mode = 'lines+markers',\n",
    "    name = 'MySQL'\n",
    ")\n",
    "\n",
    "psql_r = go.Scatter(\n",
    "    y = postgres_read_times,\n",
    "    x = embedding_count,\n",
    "    mode = 'lines+markers',\n",
    "    name = 'Postgres'\n",
    ")\n",
    "\n",
    "sqlite_r = go.Scatter(\n",
    "    y = sqlite_read_times,\n",
    "    x = embedding_count,\n",
    "    mode = 'lines+markers',\n",
    "    name = 'SQLite'\n",
    ")\n",
    "\n",
    "data = [mongo_r, level_r, mysql_r, psql_r, sqlite_r]"
   ]
  },
  {
   "cell_type": "code",
   "execution_count": 6,
   "metadata": {},
   "outputs": [
    {
     "data": {
      "text/html": [
       "<script>requirejs.config({paths: { 'plotly': ['https://cdn.plot.ly/plotly-latest.min']},});if(!window.Plotly) {{require(['plotly'],function(plotly) {window.Plotly=plotly;});}}</script>"
      ],
      "text/vnd.plotly.v1+html": [
       "<script>requirejs.config({paths: { 'plotly': ['https://cdn.plot.ly/plotly-latest.min']},});if(!window.Plotly) {{require(['plotly'],function(plotly) {window.Plotly=plotly;});}}</script>"
      ]
     },
     "metadata": {},
     "output_type": "display_data"
    },
    {
     "data": {
      "application/vnd.plotly.v1+json": {
       "data": [
        {
         "mode": "lines+markers",
         "name": "MongoDB",
         "type": "scatter",
         "uid": "d684d250-afa6-11e8-99fb-94b86d86a98e",
         "x": [
          500,
          1000,
          2000,
          3000,
          4000,
          5000
         ],
         "y": [
          0.38869309425354004,
          0.8653717041015625,
          1.97469162940979,
          3.4002814292907715,
          5.168785810470581,
          7.428738117218018
         ]
        },
        {
         "mode": "lines+markers",
         "name": "LevelDB",
         "type": "scatter",
         "uid": "d684d251-afa6-11e8-99fb-94b86d86a98e",
         "x": [
          500,
          1000,
          2000,
          3000,
          4000,
          5000
         ],
         "y": [
          0.0985105037689209,
          0.19457459449768066,
          0.39040303230285645,
          0.5678610801696777,
          0.7731680870056152,
          0.9867994785308838
         ]
        },
        {
         "mode": "lines+markers",
         "name": "MySQL",
         "type": "scatter",
         "uid": "d684d252-afa6-11e8-99fb-94b86d86a98e",
         "x": [
          500,
          1000,
          2000,
          3000,
          4000,
          5000
         ],
         "y": [
          0.5181713104248047,
          1.3684329986572266,
          5.713267803192139,
          12.329740524291992,
          19.260291576385498,
          27.02959108352661
         ]
        },
        {
         "mode": "lines+markers",
         "name": "Postgres",
         "type": "scatter",
         "uid": "d684d253-afa6-11e8-99fb-94b86d86a98e",
         "x": [
          500,
          1000,
          2000,
          3000,
          4000,
          5000
         ],
         "y": [
          0.20089268684387207,
          0.4085214138031006,
          0.8351507186889648,
          1.530876636505127,
          2.66886305809021,
          3.242460012435913
         ]
        },
        {
         "mode": "lines+markers",
         "name": "SQLite",
         "type": "scatter",
         "uid": "d684d254-afa6-11e8-99fb-94b86d86a98e",
         "x": [
          500,
          1000,
          2000,
          3000,
          4000,
          5000
         ],
         "y": [
          0.32979297637939453,
          1.3668241500854492,
          5.353104829788208,
          12.157445192337036,
          20.46558403968811,
          31.69059443473816
         ]
        }
       ],
       "layout": {
        "title": "Read Times",
        "xaxis": {
         "title": "Embedding Count"
        },
        "yaxis": {
         "title": "Time in Seconds"
        }
       }
      },
      "text/html": [
       "<div id=\"d0e70ef8-eb64-4c28-9365-6a45b748b07c\" style=\"height: 525px; width: 100%;\" class=\"plotly-graph-div\"></div><script type=\"text/javascript\">require([\"plotly\"], function(Plotly) { window.PLOTLYENV=window.PLOTLYENV || {};window.PLOTLYENV.BASE_URL=\"https://plot.ly\";\n",
       "        Plotly.plot(\n",
       "            'd0e70ef8-eb64-4c28-9365-6a45b748b07c',\n",
       "            [{\"mode\": \"lines+markers\", \"name\": \"MongoDB\", \"x\": [500, 1000, 2000, 3000, 4000, 5000], \"y\": [0.38869309425354004, 0.8653717041015625, 1.97469162940979, 3.4002814292907715, 5.168785810470581, 7.428738117218018], \"type\": \"scatter\", \"uid\": \"d684d250-afa6-11e8-99fb-94b86d86a98e\"}, {\"mode\": \"lines+markers\", \"name\": \"LevelDB\", \"x\": [500, 1000, 2000, 3000, 4000, 5000], \"y\": [0.0985105037689209, 0.19457459449768066, 0.39040303230285645, 0.5678610801696777, 0.7731680870056152, 0.9867994785308838], \"type\": \"scatter\", \"uid\": \"d684d251-afa6-11e8-99fb-94b86d86a98e\"}, {\"mode\": \"lines+markers\", \"name\": \"MySQL\", \"x\": [500, 1000, 2000, 3000, 4000, 5000], \"y\": [0.5181713104248047, 1.3684329986572266, 5.713267803192139, 12.329740524291992, 19.260291576385498, 27.02959108352661], \"type\": \"scatter\", \"uid\": \"d684d252-afa6-11e8-99fb-94b86d86a98e\"}, {\"mode\": \"lines+markers\", \"name\": \"Postgres\", \"x\": [500, 1000, 2000, 3000, 4000, 5000], \"y\": [0.20089268684387207, 0.4085214138031006, 0.8351507186889648, 1.530876636505127, 2.66886305809021, 3.242460012435913], \"type\": \"scatter\", \"uid\": \"d684d253-afa6-11e8-99fb-94b86d86a98e\"}, {\"mode\": \"lines+markers\", \"name\": \"SQLite\", \"x\": [500, 1000, 2000, 3000, 4000, 5000], \"y\": [0.32979297637939453, 1.3668241500854492, 5.353104829788208, 12.157445192337036, 20.46558403968811, 31.69059443473816], \"type\": \"scatter\", \"uid\": \"d684d254-afa6-11e8-99fb-94b86d86a98e\"}],\n",
       "            {\"title\": \"Read Times\", \"xaxis\": {\"title\": \"Embedding Count\"}, \"yaxis\": {\"title\": \"Time in Seconds\"}},\n",
       "            {\"showLink\": true, \"linkText\": \"Export to plot.ly\"}\n",
       "        ).then(function () {return Plotly.addFrames('d0e70ef8-eb64-4c28-9365-6a45b748b07c',{});}).then(function(){Plotly.animate('d0e70ef8-eb64-4c28-9365-6a45b748b07c');})\n",
       "        });</script>"
      ],
      "text/vnd.plotly.v1+html": [
       "<div id=\"d0e70ef8-eb64-4c28-9365-6a45b748b07c\" style=\"height: 525px; width: 100%;\" class=\"plotly-graph-div\"></div><script type=\"text/javascript\">require([\"plotly\"], function(Plotly) { window.PLOTLYENV=window.PLOTLYENV || {};window.PLOTLYENV.BASE_URL=\"https://plot.ly\";\n",
       "        Plotly.plot(\n",
       "            'd0e70ef8-eb64-4c28-9365-6a45b748b07c',\n",
       "            [{\"mode\": \"lines+markers\", \"name\": \"MongoDB\", \"x\": [500, 1000, 2000, 3000, 4000, 5000], \"y\": [0.38869309425354004, 0.8653717041015625, 1.97469162940979, 3.4002814292907715, 5.168785810470581, 7.428738117218018], \"type\": \"scatter\", \"uid\": \"d684d250-afa6-11e8-99fb-94b86d86a98e\"}, {\"mode\": \"lines+markers\", \"name\": \"LevelDB\", \"x\": [500, 1000, 2000, 3000, 4000, 5000], \"y\": [0.0985105037689209, 0.19457459449768066, 0.39040303230285645, 0.5678610801696777, 0.7731680870056152, 0.9867994785308838], \"type\": \"scatter\", \"uid\": \"d684d251-afa6-11e8-99fb-94b86d86a98e\"}, {\"mode\": \"lines+markers\", \"name\": \"MySQL\", \"x\": [500, 1000, 2000, 3000, 4000, 5000], \"y\": [0.5181713104248047, 1.3684329986572266, 5.713267803192139, 12.329740524291992, 19.260291576385498, 27.02959108352661], \"type\": \"scatter\", \"uid\": \"d684d252-afa6-11e8-99fb-94b86d86a98e\"}, {\"mode\": \"lines+markers\", \"name\": \"Postgres\", \"x\": [500, 1000, 2000, 3000, 4000, 5000], \"y\": [0.20089268684387207, 0.4085214138031006, 0.8351507186889648, 1.530876636505127, 2.66886305809021, 3.242460012435913], \"type\": \"scatter\", \"uid\": \"d684d253-afa6-11e8-99fb-94b86d86a98e\"}, {\"mode\": \"lines+markers\", \"name\": \"SQLite\", \"x\": [500, 1000, 2000, 3000, 4000, 5000], \"y\": [0.32979297637939453, 1.3668241500854492, 5.353104829788208, 12.157445192337036, 20.46558403968811, 31.69059443473816], \"type\": \"scatter\", \"uid\": \"d684d254-afa6-11e8-99fb-94b86d86a98e\"}],\n",
       "            {\"title\": \"Read Times\", \"xaxis\": {\"title\": \"Embedding Count\"}, \"yaxis\": {\"title\": \"Time in Seconds\"}},\n",
       "            {\"showLink\": true, \"linkText\": \"Export to plot.ly\"}\n",
       "        ).then(function () {return Plotly.addFrames('d0e70ef8-eb64-4c28-9365-6a45b748b07c',{});}).then(function(){Plotly.animate('d0e70ef8-eb64-4c28-9365-6a45b748b07c');})\n",
       "        });</script>"
      ]
     },
     "metadata": {},
     "output_type": "display_data"
    }
   ],
   "source": [
    "plotly.offline.init_notebook_mode(connected=True)\n",
    "\n",
    "layout = plotly.graph_objs.Layout(title=\"Read Times\",\n",
    "                yaxis=dict(title='Time in Seconds'),\n",
    "                xaxis=dict(title='Embedding Count'))\n",
    "\n",
    "fig = plotly.graph_objs.Figure(data=data, layout=layout)\n",
    "\n",
    "plotly.offline.iplot(fig, filename='scatter-read')"
   ]
  },
  {
   "cell_type": "code",
   "execution_count": 7,
   "metadata": {},
   "outputs": [],
   "source": [
    "mongo_w = go.Scatter(\n",
    "    y = mongo_write_times,\n",
    "    x = embedding_count,\n",
    "    mode = 'lines+markers',\n",
    "    name = 'MongoDB'\n",
    ")\n",
    "\n",
    "level_w = go.Scatter(\n",
    "    y = level_write_times,\n",
    "    x = embedding_count,\n",
    "    mode = 'lines+markers',\n",
    "    name = 'LevelDB'\n",
    ")\n",
    "\n",
    "mysql_w = go.Scatter(\n",
    "    y = mysql_write_times,\n",
    "    x = embedding_count,\n",
    "    mode = 'lines+markers',\n",
    "    name = 'MySQL'\n",
    ")\n",
    "\n",
    "psql_w = go.Scatter(\n",
    "    y = postgres_write_times,\n",
    "    x = embedding_count,\n",
    "    mode = 'lines+markers',\n",
    "    name = 'Postgres'\n",
    ")\n",
    "\n",
    "sqlite_w = go.Scatter(\n",
    "    y = sqlite_write_times,\n",
    "    x = embedding_count,\n",
    "    mode = 'lines+markers',\n",
    "    name = 'SQLite'\n",
    ")\n",
    "\n",
    "data = [mongo_w, level_w, mysql_w, psql_w, sqlite_w]"
   ]
  },
  {
   "cell_type": "code",
   "execution_count": 8,
   "metadata": {},
   "outputs": [
    {
     "data": {
      "text/html": [
       "<script>requirejs.config({paths: { 'plotly': ['https://cdn.plot.ly/plotly-latest.min']},});if(!window.Plotly) {{require(['plotly'],function(plotly) {window.Plotly=plotly;});}}</script>"
      ],
      "text/vnd.plotly.v1+html": [
       "<script>requirejs.config({paths: { 'plotly': ['https://cdn.plot.ly/plotly-latest.min']},});if(!window.Plotly) {{require(['plotly'],function(plotly) {window.Plotly=plotly;});}}</script>"
      ]
     },
     "metadata": {},
     "output_type": "display_data"
    },
    {
     "data": {
      "application/vnd.plotly.v1+json": {
       "data": [
        {
         "mode": "lines+markers",
         "name": "MongoDB",
         "type": "scatter",
         "uid": "dbca4178-afa6-11e8-99fb-94b86d86a98e",
         "x": [
          500,
          1000,
          2000,
          3000,
          4000,
          5000
         ],
         "y": [
          0.3138880729675293,
          0.5939149856567383,
          1.1943979263305664,
          1.6786630153656006,
          2.2794220447540283,
          2.6830246448516846
         ]
        },
        {
         "mode": "lines+markers",
         "name": "LevelDB",
         "type": "scatter",
         "uid": "dbca4179-afa6-11e8-99fb-94b86d86a98e",
         "x": [
          500,
          1000,
          2000,
          3000,
          4000,
          5000
         ],
         "y": [
          0.13895416259765625,
          0.17101764678955078,
          0.3788294792175293,
          0.5008127689361572,
          0.7033114433288574,
          1.1339409351348877
         ]
        },
        {
         "mode": "lines+markers",
         "name": "MySQL",
         "type": "scatter",
         "uid": "dbca417a-afa6-11e8-99fb-94b86d86a98e",
         "x": [
          500,
          1000,
          2000,
          3000,
          4000,
          5000
         ],
         "y": [
          59.611292362213135,
          148.12936902046204,
          231.10561180114746,
          370.53470754623413,
          511.198233127594,
          641.969072341919
         ]
        },
        {
         "mode": "lines+markers",
         "name": "Postgres",
         "type": "scatter",
         "uid": "dbca417b-afa6-11e8-99fb-94b86d86a98e",
         "x": [
          500,
          1000,
          2000,
          3000,
          4000,
          5000
         ],
         "y": [
          13.330701112747192,
          43.82352876663208,
          77.78558206558228,
          106.69974684715271,
          154.54727625846863,
          151.69119119644165
         ]
        },
        {
         "mode": "lines+markers",
         "name": "SQLite",
         "type": "scatter",
         "uid": "dbca417c-afa6-11e8-99fb-94b86d86a98e",
         "x": [
          500,
          1000,
          2000,
          3000,
          4000,
          5000
         ],
         "y": [
          120.99484276771545,
          234.68943977355957,
          491.8207950592041,
          576.3899323940277,
          792.887344121933,
          987.8155264854431
         ]
        }
       ],
       "layout": {
        "title": "Write Times",
        "xaxis": {
         "title": "Embedding Count"
        },
        "yaxis": {
         "title": "Time in Seconds"
        }
       }
      },
      "text/html": [
       "<div id=\"0455eebc-e745-4e34-8623-1155a48f403f\" style=\"height: 525px; width: 100%;\" class=\"plotly-graph-div\"></div><script type=\"text/javascript\">require([\"plotly\"], function(Plotly) { window.PLOTLYENV=window.PLOTLYENV || {};window.PLOTLYENV.BASE_URL=\"https://plot.ly\";\n",
       "        Plotly.plot(\n",
       "            '0455eebc-e745-4e34-8623-1155a48f403f',\n",
       "            [{\"mode\": \"lines+markers\", \"name\": \"MongoDB\", \"x\": [500, 1000, 2000, 3000, 4000, 5000], \"y\": [0.3138880729675293, 0.5939149856567383, 1.1943979263305664, 1.6786630153656006, 2.2794220447540283, 2.6830246448516846], \"type\": \"scatter\", \"uid\": \"dbca4178-afa6-11e8-99fb-94b86d86a98e\"}, {\"mode\": \"lines+markers\", \"name\": \"LevelDB\", \"x\": [500, 1000, 2000, 3000, 4000, 5000], \"y\": [0.13895416259765625, 0.17101764678955078, 0.3788294792175293, 0.5008127689361572, 0.7033114433288574, 1.1339409351348877], \"type\": \"scatter\", \"uid\": \"dbca4179-afa6-11e8-99fb-94b86d86a98e\"}, {\"mode\": \"lines+markers\", \"name\": \"MySQL\", \"x\": [500, 1000, 2000, 3000, 4000, 5000], \"y\": [59.611292362213135, 148.12936902046204, 231.10561180114746, 370.53470754623413, 511.198233127594, 641.969072341919], \"type\": \"scatter\", \"uid\": \"dbca417a-afa6-11e8-99fb-94b86d86a98e\"}, {\"mode\": \"lines+markers\", \"name\": \"Postgres\", \"x\": [500, 1000, 2000, 3000, 4000, 5000], \"y\": [13.330701112747192, 43.82352876663208, 77.78558206558228, 106.69974684715271, 154.54727625846863, 151.69119119644165], \"type\": \"scatter\", \"uid\": \"dbca417b-afa6-11e8-99fb-94b86d86a98e\"}, {\"mode\": \"lines+markers\", \"name\": \"SQLite\", \"x\": [500, 1000, 2000, 3000, 4000, 5000], \"y\": [120.99484276771545, 234.68943977355957, 491.8207950592041, 576.3899323940277, 792.887344121933, 987.8155264854431], \"type\": \"scatter\", \"uid\": \"dbca417c-afa6-11e8-99fb-94b86d86a98e\"}],\n",
       "            {\"title\": \"Write Times\", \"xaxis\": {\"title\": \"Embedding Count\"}, \"yaxis\": {\"title\": \"Time in Seconds\"}},\n",
       "            {\"showLink\": true, \"linkText\": \"Export to plot.ly\"}\n",
       "        ).then(function () {return Plotly.addFrames('0455eebc-e745-4e34-8623-1155a48f403f',{});}).then(function(){Plotly.animate('0455eebc-e745-4e34-8623-1155a48f403f');})\n",
       "        });</script>"
      ],
      "text/vnd.plotly.v1+html": [
       "<div id=\"0455eebc-e745-4e34-8623-1155a48f403f\" style=\"height: 525px; width: 100%;\" class=\"plotly-graph-div\"></div><script type=\"text/javascript\">require([\"plotly\"], function(Plotly) { window.PLOTLYENV=window.PLOTLYENV || {};window.PLOTLYENV.BASE_URL=\"https://plot.ly\";\n",
       "        Plotly.plot(\n",
       "            '0455eebc-e745-4e34-8623-1155a48f403f',\n",
       "            [{\"mode\": \"lines+markers\", \"name\": \"MongoDB\", \"x\": [500, 1000, 2000, 3000, 4000, 5000], \"y\": [0.3138880729675293, 0.5939149856567383, 1.1943979263305664, 1.6786630153656006, 2.2794220447540283, 2.6830246448516846], \"type\": \"scatter\", \"uid\": \"dbca4178-afa6-11e8-99fb-94b86d86a98e\"}, {\"mode\": \"lines+markers\", \"name\": \"LevelDB\", \"x\": [500, 1000, 2000, 3000, 4000, 5000], \"y\": [0.13895416259765625, 0.17101764678955078, 0.3788294792175293, 0.5008127689361572, 0.7033114433288574, 1.1339409351348877], \"type\": \"scatter\", \"uid\": \"dbca4179-afa6-11e8-99fb-94b86d86a98e\"}, {\"mode\": \"lines+markers\", \"name\": \"MySQL\", \"x\": [500, 1000, 2000, 3000, 4000, 5000], \"y\": [59.611292362213135, 148.12936902046204, 231.10561180114746, 370.53470754623413, 511.198233127594, 641.969072341919], \"type\": \"scatter\", \"uid\": \"dbca417a-afa6-11e8-99fb-94b86d86a98e\"}, {\"mode\": \"lines+markers\", \"name\": \"Postgres\", \"x\": [500, 1000, 2000, 3000, 4000, 5000], \"y\": [13.330701112747192, 43.82352876663208, 77.78558206558228, 106.69974684715271, 154.54727625846863, 151.69119119644165], \"type\": \"scatter\", \"uid\": \"dbca417b-afa6-11e8-99fb-94b86d86a98e\"}, {\"mode\": \"lines+markers\", \"name\": \"SQLite\", \"x\": [500, 1000, 2000, 3000, 4000, 5000], \"y\": [120.99484276771545, 234.68943977355957, 491.8207950592041, 576.3899323940277, 792.887344121933, 987.8155264854431], \"type\": \"scatter\", \"uid\": \"dbca417c-afa6-11e8-99fb-94b86d86a98e\"}],\n",
       "            {\"title\": \"Write Times\", \"xaxis\": {\"title\": \"Embedding Count\"}, \"yaxis\": {\"title\": \"Time in Seconds\"}},\n",
       "            {\"showLink\": true, \"linkText\": \"Export to plot.ly\"}\n",
       "        ).then(function () {return Plotly.addFrames('0455eebc-e745-4e34-8623-1155a48f403f',{});}).then(function(){Plotly.animate('0455eebc-e745-4e34-8623-1155a48f403f');})\n",
       "        });</script>"
      ]
     },
     "metadata": {},
     "output_type": "display_data"
    }
   ],
   "source": [
    "plotly.offline.init_notebook_mode(connected=True)\n",
    "\n",
    "layout = plotly.graph_objs.Layout(title=\"Write Times\",\n",
    "                yaxis=dict(title='Time in Seconds'),\n",
    "                xaxis=dict(title='Embedding Count'))\n",
    "\n",
    "fig = plotly.graph_objs.Figure(data=data, layout=layout)\n",
    "\n",
    "plotly.offline.iplot(fig, filename='scatter-write')"
   ]
  },
  {
   "cell_type": "code",
   "execution_count": 13,
   "metadata": {},
   "outputs": [
    {
     "data": {
      "text/html": [
       "<script>requirejs.config({paths: { 'plotly': ['https://cdn.plot.ly/plotly-latest.min']},});if(!window.Plotly) {{require(['plotly'],function(plotly) {window.Plotly=plotly;});}}</script>"
      ],
      "text/vnd.plotly.v1+html": [
       "<script>requirejs.config({paths: { 'plotly': ['https://cdn.plot.ly/plotly-latest.min']},});if(!window.Plotly) {{require(['plotly'],function(plotly) {window.Plotly=plotly;});}}</script>"
      ]
     },
     "metadata": {},
     "output_type": "display_data"
    },
    {
     "data": {
      "application/vnd.plotly.v1+json": {
       "data": [
        {
         "name": "SQLite",
         "type": "bar",
         "uid": "85bbcd3c-afa7-11e8-99fb-94b86d86a98e",
         "x": [
          500,
          1000,
          2000,
          3000,
          4000,
          5000
         ],
         "y": [
          2008,
          4016,
          8028,
          12036,
          16044,
          20052
         ]
        },
        {
         "name": "LevelDB",
         "type": "bar",
         "uid": "85bbcd3d-afa7-11e8-99fb-94b86d86a98e",
         "x": [
          500,
          1000,
          2000,
          3000,
          4000,
          5000
         ],
         "y": [
          "1264",
          "2512",
          "5012",
          "7508",
          "10008",
          "12512"
         ]
        }
       ],
       "layout": {
        "title": "Database Size",
        "xaxis": {
         "title": "Embedding Count"
        },
        "yaxis": {
         "title": "Size in KB"
        }
       }
      },
      "text/html": [
       "<div id=\"023b57a7-53ec-4156-9804-10110140eb03\" style=\"height: 525px; width: 100%;\" class=\"plotly-graph-div\"></div><script type=\"text/javascript\">require([\"plotly\"], function(Plotly) { window.PLOTLYENV=window.PLOTLYENV || {};window.PLOTLYENV.BASE_URL=\"https://plot.ly\";\n",
       "        Plotly.plot(\n",
       "            '023b57a7-53ec-4156-9804-10110140eb03',\n",
       "            [{\"name\": \"SQLite\", \"x\": [500, 1000, 2000, 3000, 4000, 5000], \"y\": [2008.0, 4016.0, 8028.0, 12036.0, 16044.0, 20052.0], \"type\": \"bar\", \"uid\": \"85bbcd3c-afa7-11e8-99fb-94b86d86a98e\"}, {\"name\": \"LevelDB\", \"x\": [500, 1000, 2000, 3000, 4000, 5000], \"y\": [\"1264\", \"2512\", \"5012\", \"7508\", \"10008\", \"12512\"], \"type\": \"bar\", \"uid\": \"85bbcd3d-afa7-11e8-99fb-94b86d86a98e\"}],\n",
       "            {\"title\": \"Database Size\", \"xaxis\": {\"title\": \"Embedding Count\"}, \"yaxis\": {\"title\": \"Size in KB\"}},\n",
       "            {\"showLink\": true, \"linkText\": \"Export to plot.ly\"}\n",
       "        ).then(function () {return Plotly.addFrames('023b57a7-53ec-4156-9804-10110140eb03',{});}).then(function(){Plotly.animate('023b57a7-53ec-4156-9804-10110140eb03');})\n",
       "        });</script>"
      ],
      "text/vnd.plotly.v1+html": [
       "<div id=\"023b57a7-53ec-4156-9804-10110140eb03\" style=\"height: 525px; width: 100%;\" class=\"plotly-graph-div\"></div><script type=\"text/javascript\">require([\"plotly\"], function(Plotly) { window.PLOTLYENV=window.PLOTLYENV || {};window.PLOTLYENV.BASE_URL=\"https://plot.ly\";\n",
       "        Plotly.plot(\n",
       "            '023b57a7-53ec-4156-9804-10110140eb03',\n",
       "            [{\"name\": \"SQLite\", \"x\": [500, 1000, 2000, 3000, 4000, 5000], \"y\": [2008.0, 4016.0, 8028.0, 12036.0, 16044.0, 20052.0], \"type\": \"bar\", \"uid\": \"85bbcd3c-afa7-11e8-99fb-94b86d86a98e\"}, {\"name\": \"LevelDB\", \"x\": [500, 1000, 2000, 3000, 4000, 5000], \"y\": [\"1264\", \"2512\", \"5012\", \"7508\", \"10008\", \"12512\"], \"type\": \"bar\", \"uid\": \"85bbcd3d-afa7-11e8-99fb-94b86d86a98e\"}],\n",
       "            {\"title\": \"Database Size\", \"xaxis\": {\"title\": \"Embedding Count\"}, \"yaxis\": {\"title\": \"Size in KB\"}},\n",
       "            {\"showLink\": true, \"linkText\": \"Export to plot.ly\"}\n",
       "        ).then(function () {return Plotly.addFrames('023b57a7-53ec-4156-9804-10110140eb03',{});}).then(function(){Plotly.animate('023b57a7-53ec-4156-9804-10110140eb03');})\n",
       "        });</script>"
      ]
     },
     "metadata": {},
     "output_type": "display_data"
    }
   ],
   "source": [
    "sqlite_size = go.Bar(\n",
    "    x = embedding_count,\n",
    "    y = [size/1024 for size in sqlite_db_size_bytes],\n",
    "    name='SQLite'\n",
    ")\n",
    "\n",
    "level_size = go.Bar(\n",
    "    x = embedding_count,\n",
    "    y = level_db_size_kb,\n",
    "    name='LevelDB'\n",
    ")\n",
    "\n",
    "plotly.offline.init_notebook_mode(connected=True)\n",
    "layout = plotly.graph_objs.Layout(title=\"Database Size\",\n",
    "                yaxis=dict(title='Size in KB'),\n",
    "                xaxis=dict(title='Embedding Count'))\n",
    "data = [sqlite_size, level_size]\n",
    "fig = plotly.graph_objs.Figure(data=data, layout=layout)\n",
    "plotly.offline.iplot(fig, filename='jupyter-bar-sizes')"
   ]
  },
  {
   "cell_type": "code",
   "execution_count": null,
   "metadata": {},
   "outputs": [],
   "source": []
  }
 ],
 "metadata": {
  "kernelspec": {
   "display_name": "Python 3",
   "language": "python",
   "name": "python3"
  },
  "language_info": {
   "codemirror_mode": {
    "name": "ipython",
    "version": 3
   },
   "file_extension": ".py",
   "mimetype": "text/x-python",
   "name": "python",
   "nbconvert_exporter": "python",
   "pygments_lexer": "ipython3",
   "version": "3.6.5"
  }
 },
 "nbformat": 4,
 "nbformat_minor": 2
}
