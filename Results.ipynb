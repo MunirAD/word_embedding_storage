{
 "cells": [
  {
   "cell_type": "markdown",
   "metadata": {},
   "source": [
    "# Results\n",
    "\n",
    "Hardware: \n",
    " - Intel(R) Core(TM) i7-8550U CPU @ 1.80GHz\n",
    " - Seagate Thin 5400RPM SATA 3Gb/s"
   ]
  },
  {
   "cell_type": "markdown",
   "metadata": {},
   "source": [
    "![WriteTimes](writetimes.png)\n",
    "\n",
    "![ReadTimes](readtimes.png)"
   ]
  },
  {
   "cell_type": "code",
   "execution_count": 3,
   "metadata": {},
   "outputs": [],
   "source": [
    "import plotly\n",
    "import plotly.plotly as py\n",
    "import plotly.graph_objs as go\n",
    "embedding_count = [500, 1000, 2000, 3000, 4000, 5000]"
   ]
  },
  {
   "cell_type": "code",
   "execution_count": 6,
   "metadata": {},
   "outputs": [],
   "source": [
    "postgres_read_times =[0.20089268684387207,\n",
    " 0.4085214138031006,\n",
    " 0.8351507186889648,\n",
    " 1.530876636505127,\n",
    " 2.66886305809021,\n",
    " 3.242460012435913]\n",
    "\n",
    "postgres_write_times = [13.330701112747192,\n",
    " 43.82352876663208,\n",
    " 77.78558206558228,\n",
    " 106.69974684715271,\n",
    " 154.54727625846863,\n",
    " 151.69119119644165]\n",
    "\n",
    "mongo_write_times = [0.3138880729675293,\n",
    " 0.5939149856567383,\n",
    " 1.1943979263305664,\n",
    " 1.6786630153656006,\n",
    " 2.2794220447540283,\n",
    " 2.6830246448516846]\n",
    "\n",
    "mongo_read_times = [0.38869309425354004,\n",
    " 0.8653717041015625,\n",
    " 1.97469162940979,\n",
    " 3.4002814292907715,\n",
    " 5.168785810470581,\n",
    " 7.428738117218018]\n",
    "\n",
    "level_read_times = [0.0985105037689209,\n",
    " 0.19457459449768066,\n",
    " 0.39040303230285645,\n",
    " 0.5678610801696777,\n",
    " 0.7731680870056152,\n",
    " 0.9867994785308838]\n",
    "\n",
    "level_write_times = [0.13895416259765625,\n",
    " 0.17101764678955078,\n",
    " 0.3788294792175293,\n",
    " 0.5008127689361572,\n",
    " 0.7033114433288574,\n",
    " 1.1339409351348877]\n",
    "\n",
    "mysql_read_times = [0.5181713104248047,\n",
    " 1.3684329986572266,\n",
    " 5.713267803192139,\n",
    " 12.329740524291992,\n",
    " 19.260291576385498,\n",
    " 27.02959108352661]\n",
    "\n",
    "mysql_write_times = [59.611292362213135,\n",
    " 148.12936902046204,\n",
    " 231.10561180114746,\n",
    " 370.53470754623413,\n",
    " 511.198233127594,\n",
    " 641.969072341919]\n",
    "\n",
    "level_db_size_kb = ['1264', '2512', '5012', '7508', '10008', '12512']"
   ]
  },
  {
   "cell_type": "code",
   "execution_count": 7,
   "metadata": {},
   "outputs": [],
   "source": [
    "mongo_r = go.Scatter(\n",
    "    y = mongo_read_times,\n",
    "    x = embedding_count,\n",
    "    mode = 'lines+markers',\n",
    "    name = 'MongoDB'\n",
    ")\n",
    "\n",
    "level_r = go.Scatter(\n",
    "    y = level_read_times,\n",
    "    x = embedding_count,\n",
    "    mode = 'lines+markers',\n",
    "    name = 'LevelDB'\n",
    ")\n",
    "\n",
    "mysql_r = go.Scatter(\n",
    "    y = mysql_read_times,\n",
    "    x = embedding_count,\n",
    "    mode = 'lines+markers',\n",
    "    name = 'MySQL'\n",
    ")\n",
    "\n",
    "psql_r = go.Scatter(\n",
    "    y = postgres_read_times,\n",
    "    x = embedding_count,\n",
    "    mode = 'lines+markers',\n",
    "    name = 'Postgres'\n",
    ")\n",
    "\n",
    "data = [mongo_r, level_r, mysql_r, psql_r]"
   ]
  },
  {
   "cell_type": "code",
   "execution_count": 8,
   "metadata": {},
   "outputs": [
    {
     "data": {
      "text/html": [
       "<script>requirejs.config({paths: { 'plotly': ['https://cdn.plot.ly/plotly-latest.min']},});if(!window.Plotly) {{require(['plotly'],function(plotly) {window.Plotly=plotly;});}}</script>"
      ],
      "text/vnd.plotly.v1+html": [
       "<script>requirejs.config({paths: { 'plotly': ['https://cdn.plot.ly/plotly-latest.min']},});if(!window.Plotly) {{require(['plotly'],function(plotly) {window.Plotly=plotly;});}}</script>"
      ]
     },
     "metadata": {},
     "output_type": "display_data"
    },
    {
     "data": {
      "application/vnd.plotly.v1+json": {
       "data": [
        {
         "mode": "lines+markers",
         "name": "MongoDB",
         "type": "scatter",
         "uid": "6f284f30-af90-11e8-8bf3-94b86d86a98e",
         "x": [
          500,
          1000,
          2000,
          3000,
          4000,
          5000
         ],
         "y": [
          0.38869309425354004,
          0.8653717041015625,
          1.97469162940979,
          3.4002814292907715,
          5.168785810470581,
          7.428738117218018
         ]
        },
        {
         "mode": "lines+markers",
         "name": "LevelDB",
         "type": "scatter",
         "uid": "6f284f31-af90-11e8-8bf3-94b86d86a98e",
         "x": [
          500,
          1000,
          2000,
          3000,
          4000,
          5000
         ],
         "y": [
          0.0985105037689209,
          0.19457459449768066,
          0.39040303230285645,
          0.5678610801696777,
          0.7731680870056152,
          0.9867994785308838
         ]
        },
        {
         "mode": "lines+markers",
         "name": "MySQL",
         "type": "scatter",
         "uid": "6f284f32-af90-11e8-8bf3-94b86d86a98e",
         "x": [
          500,
          1000,
          2000,
          3000,
          4000,
          5000
         ],
         "y": [
          0.5181713104248047,
          1.3684329986572266,
          5.713267803192139,
          12.329740524291992,
          19.260291576385498,
          27.02959108352661
         ]
        },
        {
         "mode": "lines+markers",
         "name": "Postgres",
         "type": "scatter",
         "uid": "6f284f33-af90-11e8-8bf3-94b86d86a98e",
         "x": [
          500,
          1000,
          2000,
          3000,
          4000,
          5000
         ],
         "y": [
          0.20089268684387207,
          0.4085214138031006,
          0.8351507186889648,
          1.530876636505127,
          2.66886305809021,
          3.242460012435913
         ]
        }
       ],
       "layout": {
        "title": "Read Times",
        "xaxis": {
         "title": "Embedding Count"
        },
        "yaxis": {
         "title": "Time in Seconds"
        }
       }
      },
      "text/html": [
       "<div id=\"c14add9d-240f-4973-9073-be2006b27134\" style=\"height: 525px; width: 100%;\" class=\"plotly-graph-div\"></div><script type=\"text/javascript\">require([\"plotly\"], function(Plotly) { window.PLOTLYENV=window.PLOTLYENV || {};window.PLOTLYENV.BASE_URL=\"https://plot.ly\";\n",
       "        Plotly.plot(\n",
       "            'c14add9d-240f-4973-9073-be2006b27134',\n",
       "            [{\"mode\": \"lines+markers\", \"name\": \"MongoDB\", \"x\": [500, 1000, 2000, 3000, 4000, 5000], \"y\": [0.38869309425354004, 0.8653717041015625, 1.97469162940979, 3.4002814292907715, 5.168785810470581, 7.428738117218018], \"type\": \"scatter\", \"uid\": \"6f284f30-af90-11e8-8bf3-94b86d86a98e\"}, {\"mode\": \"lines+markers\", \"name\": \"LevelDB\", \"x\": [500, 1000, 2000, 3000, 4000, 5000], \"y\": [0.0985105037689209, 0.19457459449768066, 0.39040303230285645, 0.5678610801696777, 0.7731680870056152, 0.9867994785308838], \"type\": \"scatter\", \"uid\": \"6f284f31-af90-11e8-8bf3-94b86d86a98e\"}, {\"mode\": \"lines+markers\", \"name\": \"MySQL\", \"x\": [500, 1000, 2000, 3000, 4000, 5000], \"y\": [0.5181713104248047, 1.3684329986572266, 5.713267803192139, 12.329740524291992, 19.260291576385498, 27.02959108352661], \"type\": \"scatter\", \"uid\": \"6f284f32-af90-11e8-8bf3-94b86d86a98e\"}, {\"mode\": \"lines+markers\", \"name\": \"Postgres\", \"x\": [500, 1000, 2000, 3000, 4000, 5000], \"y\": [0.20089268684387207, 0.4085214138031006, 0.8351507186889648, 1.530876636505127, 2.66886305809021, 3.242460012435913], \"type\": \"scatter\", \"uid\": \"6f284f33-af90-11e8-8bf3-94b86d86a98e\"}],\n",
       "            {\"title\": \"Read Times\", \"xaxis\": {\"title\": \"Embedding Count\"}, \"yaxis\": {\"title\": \"Time in Seconds\"}},\n",
       "            {\"showLink\": true, \"linkText\": \"Export to plot.ly\"}\n",
       "        ).then(function () {return Plotly.addFrames('c14add9d-240f-4973-9073-be2006b27134',{});}).then(function(){Plotly.animate('c14add9d-240f-4973-9073-be2006b27134');})\n",
       "        });</script>"
      ],
      "text/vnd.plotly.v1+html": [
       "<div id=\"c14add9d-240f-4973-9073-be2006b27134\" style=\"height: 525px; width: 100%;\" class=\"plotly-graph-div\"></div><script type=\"text/javascript\">require([\"plotly\"], function(Plotly) { window.PLOTLYENV=window.PLOTLYENV || {};window.PLOTLYENV.BASE_URL=\"https://plot.ly\";\n",
       "        Plotly.plot(\n",
       "            'c14add9d-240f-4973-9073-be2006b27134',\n",
       "            [{\"mode\": \"lines+markers\", \"name\": \"MongoDB\", \"x\": [500, 1000, 2000, 3000, 4000, 5000], \"y\": [0.38869309425354004, 0.8653717041015625, 1.97469162940979, 3.4002814292907715, 5.168785810470581, 7.428738117218018], \"type\": \"scatter\", \"uid\": \"6f284f30-af90-11e8-8bf3-94b86d86a98e\"}, {\"mode\": \"lines+markers\", \"name\": \"LevelDB\", \"x\": [500, 1000, 2000, 3000, 4000, 5000], \"y\": [0.0985105037689209, 0.19457459449768066, 0.39040303230285645, 0.5678610801696777, 0.7731680870056152, 0.9867994785308838], \"type\": \"scatter\", \"uid\": \"6f284f31-af90-11e8-8bf3-94b86d86a98e\"}, {\"mode\": \"lines+markers\", \"name\": \"MySQL\", \"x\": [500, 1000, 2000, 3000, 4000, 5000], \"y\": [0.5181713104248047, 1.3684329986572266, 5.713267803192139, 12.329740524291992, 19.260291576385498, 27.02959108352661], \"type\": \"scatter\", \"uid\": \"6f284f32-af90-11e8-8bf3-94b86d86a98e\"}, {\"mode\": \"lines+markers\", \"name\": \"Postgres\", \"x\": [500, 1000, 2000, 3000, 4000, 5000], \"y\": [0.20089268684387207, 0.4085214138031006, 0.8351507186889648, 1.530876636505127, 2.66886305809021, 3.242460012435913], \"type\": \"scatter\", \"uid\": \"6f284f33-af90-11e8-8bf3-94b86d86a98e\"}],\n",
       "            {\"title\": \"Read Times\", \"xaxis\": {\"title\": \"Embedding Count\"}, \"yaxis\": {\"title\": \"Time in Seconds\"}},\n",
       "            {\"showLink\": true, \"linkText\": \"Export to plot.ly\"}\n",
       "        ).then(function () {return Plotly.addFrames('c14add9d-240f-4973-9073-be2006b27134',{});}).then(function(){Plotly.animate('c14add9d-240f-4973-9073-be2006b27134');})\n",
       "        });</script>"
      ]
     },
     "metadata": {},
     "output_type": "display_data"
    }
   ],
   "source": [
    "plotly.offline.init_notebook_mode(connected=True)\n",
    "\n",
    "layout = plotly.graph_objs.Layout(title=\"Read Times\",\n",
    "                yaxis=dict(title='Time in Seconds'),\n",
    "                xaxis=dict(title='Embedding Count'))\n",
    "\n",
    "fig = plotly.graph_objs.Figure(data=data, layout=layout)\n",
    "\n",
    "plotly.offline.iplot(fig, filename='scatter-read')"
   ]
  },
  {
   "cell_type": "code",
   "execution_count": 9,
   "metadata": {},
   "outputs": [],
   "source": [
    "mongo_w = go.Scatter(\n",
    "    y = mongo_write_times,\n",
    "    x = embedding_count,\n",
    "    mode = 'lines+markers',\n",
    "    name = 'MongoDB'\n",
    ")\n",
    "\n",
    "level_w = go.Scatter(\n",
    "    y = level_write_times,\n",
    "    x = embedding_count,\n",
    "    mode = 'lines+markers',\n",
    "    name = 'LevelDB'\n",
    ")\n",
    "\n",
    "mysql_w = go.Scatter(\n",
    "    y = mysql_write_times,\n",
    "    x = embedding_count,\n",
    "    mode = 'lines+markers',\n",
    "    name = 'MySQL'\n",
    ")\n",
    "\n",
    "psql_w = go.Scatter(\n",
    "    y = postgres_write_times,\n",
    "    x = embedding_count,\n",
    "    mode = 'lines+markers',\n",
    "    name = 'Postgres'\n",
    ")\n",
    "\n",
    "data = [mongo_w, level_w, mysql_w, psql_w]"
   ]
  },
  {
   "cell_type": "code",
   "execution_count": 10,
   "metadata": {},
   "outputs": [
    {
     "data": {
      "text/html": [
       "<script>requirejs.config({paths: { 'plotly': ['https://cdn.plot.ly/plotly-latest.min']},});if(!window.Plotly) {{require(['plotly'],function(plotly) {window.Plotly=plotly;});}}</script>"
      ],
      "text/vnd.plotly.v1+html": [
       "<script>requirejs.config({paths: { 'plotly': ['https://cdn.plot.ly/plotly-latest.min']},});if(!window.Plotly) {{require(['plotly'],function(plotly) {window.Plotly=plotly;});}}</script>"
      ]
     },
     "metadata": {},
     "output_type": "display_data"
    },
    {
     "data": {
      "application/vnd.plotly.v1+json": {
       "data": [
        {
         "mode": "lines+markers",
         "name": "MongoDB",
         "type": "scatter",
         "uid": "950371d0-af90-11e8-8bf3-94b86d86a98e",
         "x": [
          500,
          1000,
          2000,
          3000,
          4000,
          5000
         ],
         "y": [
          0.3138880729675293,
          0.5939149856567383,
          1.1943979263305664,
          1.6786630153656006,
          2.2794220447540283,
          2.6830246448516846
         ]
        },
        {
         "mode": "lines+markers",
         "name": "LevelDB",
         "type": "scatter",
         "uid": "950371d1-af90-11e8-8bf3-94b86d86a98e",
         "x": [
          500,
          1000,
          2000,
          3000,
          4000,
          5000
         ],
         "y": [
          0.13895416259765625,
          0.17101764678955078,
          0.3788294792175293,
          0.5008127689361572,
          0.7033114433288574,
          1.1339409351348877
         ]
        },
        {
         "mode": "lines+markers",
         "name": "MySQL",
         "type": "scatter",
         "uid": "950371d2-af90-11e8-8bf3-94b86d86a98e",
         "x": [
          500,
          1000,
          2000,
          3000,
          4000,
          5000
         ],
         "y": [
          59.611292362213135,
          148.12936902046204,
          231.10561180114746,
          370.53470754623413,
          511.198233127594,
          641.969072341919
         ]
        },
        {
         "mode": "lines+markers",
         "name": "Postgres",
         "type": "scatter",
         "uid": "950371d3-af90-11e8-8bf3-94b86d86a98e",
         "x": [
          500,
          1000,
          2000,
          3000,
          4000,
          5000
         ],
         "y": [
          13.330701112747192,
          43.82352876663208,
          77.78558206558228,
          106.69974684715271,
          154.54727625846863,
          151.69119119644165
         ]
        }
       ],
       "layout": {
        "title": "Write Times",
        "xaxis": {
         "title": "Embedding Count"
        },
        "yaxis": {
         "title": "Time in Seconds"
        }
       }
      },
      "text/html": [
       "<div id=\"36c5e8ad-143d-4a53-ae3a-b49daaef1a4d\" style=\"height: 525px; width: 100%;\" class=\"plotly-graph-div\"></div><script type=\"text/javascript\">require([\"plotly\"], function(Plotly) { window.PLOTLYENV=window.PLOTLYENV || {};window.PLOTLYENV.BASE_URL=\"https://plot.ly\";\n",
       "        Plotly.plot(\n",
       "            '36c5e8ad-143d-4a53-ae3a-b49daaef1a4d',\n",
       "            [{\"mode\": \"lines+markers\", \"name\": \"MongoDB\", \"x\": [500, 1000, 2000, 3000, 4000, 5000], \"y\": [0.3138880729675293, 0.5939149856567383, 1.1943979263305664, 1.6786630153656006, 2.2794220447540283, 2.6830246448516846], \"type\": \"scatter\", \"uid\": \"950371d0-af90-11e8-8bf3-94b86d86a98e\"}, {\"mode\": \"lines+markers\", \"name\": \"LevelDB\", \"x\": [500, 1000, 2000, 3000, 4000, 5000], \"y\": [0.13895416259765625, 0.17101764678955078, 0.3788294792175293, 0.5008127689361572, 0.7033114433288574, 1.1339409351348877], \"type\": \"scatter\", \"uid\": \"950371d1-af90-11e8-8bf3-94b86d86a98e\"}, {\"mode\": \"lines+markers\", \"name\": \"MySQL\", \"x\": [500, 1000, 2000, 3000, 4000, 5000], \"y\": [59.611292362213135, 148.12936902046204, 231.10561180114746, 370.53470754623413, 511.198233127594, 641.969072341919], \"type\": \"scatter\", \"uid\": \"950371d2-af90-11e8-8bf3-94b86d86a98e\"}, {\"mode\": \"lines+markers\", \"name\": \"Postgres\", \"x\": [500, 1000, 2000, 3000, 4000, 5000], \"y\": [13.330701112747192, 43.82352876663208, 77.78558206558228, 106.69974684715271, 154.54727625846863, 151.69119119644165], \"type\": \"scatter\", \"uid\": \"950371d3-af90-11e8-8bf3-94b86d86a98e\"}],\n",
       "            {\"title\": \"Write Times\", \"xaxis\": {\"title\": \"Embedding Count\"}, \"yaxis\": {\"title\": \"Time in Seconds\"}},\n",
       "            {\"showLink\": true, \"linkText\": \"Export to plot.ly\"}\n",
       "        ).then(function () {return Plotly.addFrames('36c5e8ad-143d-4a53-ae3a-b49daaef1a4d',{});}).then(function(){Plotly.animate('36c5e8ad-143d-4a53-ae3a-b49daaef1a4d');})\n",
       "        });</script>"
      ],
      "text/vnd.plotly.v1+html": [
       "<div id=\"36c5e8ad-143d-4a53-ae3a-b49daaef1a4d\" style=\"height: 525px; width: 100%;\" class=\"plotly-graph-div\"></div><script type=\"text/javascript\">require([\"plotly\"], function(Plotly) { window.PLOTLYENV=window.PLOTLYENV || {};window.PLOTLYENV.BASE_URL=\"https://plot.ly\";\n",
       "        Plotly.plot(\n",
       "            '36c5e8ad-143d-4a53-ae3a-b49daaef1a4d',\n",
       "            [{\"mode\": \"lines+markers\", \"name\": \"MongoDB\", \"x\": [500, 1000, 2000, 3000, 4000, 5000], \"y\": [0.3138880729675293, 0.5939149856567383, 1.1943979263305664, 1.6786630153656006, 2.2794220447540283, 2.6830246448516846], \"type\": \"scatter\", \"uid\": \"950371d0-af90-11e8-8bf3-94b86d86a98e\"}, {\"mode\": \"lines+markers\", \"name\": \"LevelDB\", \"x\": [500, 1000, 2000, 3000, 4000, 5000], \"y\": [0.13895416259765625, 0.17101764678955078, 0.3788294792175293, 0.5008127689361572, 0.7033114433288574, 1.1339409351348877], \"type\": \"scatter\", \"uid\": \"950371d1-af90-11e8-8bf3-94b86d86a98e\"}, {\"mode\": \"lines+markers\", \"name\": \"MySQL\", \"x\": [500, 1000, 2000, 3000, 4000, 5000], \"y\": [59.611292362213135, 148.12936902046204, 231.10561180114746, 370.53470754623413, 511.198233127594, 641.969072341919], \"type\": \"scatter\", \"uid\": \"950371d2-af90-11e8-8bf3-94b86d86a98e\"}, {\"mode\": \"lines+markers\", \"name\": \"Postgres\", \"x\": [500, 1000, 2000, 3000, 4000, 5000], \"y\": [13.330701112747192, 43.82352876663208, 77.78558206558228, 106.69974684715271, 154.54727625846863, 151.69119119644165], \"type\": \"scatter\", \"uid\": \"950371d3-af90-11e8-8bf3-94b86d86a98e\"}],\n",
       "            {\"title\": \"Write Times\", \"xaxis\": {\"title\": \"Embedding Count\"}, \"yaxis\": {\"title\": \"Time in Seconds\"}},\n",
       "            {\"showLink\": true, \"linkText\": \"Export to plot.ly\"}\n",
       "        ).then(function () {return Plotly.addFrames('36c5e8ad-143d-4a53-ae3a-b49daaef1a4d',{});}).then(function(){Plotly.animate('36c5e8ad-143d-4a53-ae3a-b49daaef1a4d');})\n",
       "        });</script>"
      ]
     },
     "metadata": {},
     "output_type": "display_data"
    }
   ],
   "source": [
    "plotly.offline.init_notebook_mode(connected=True)\n",
    "\n",
    "layout = plotly.graph_objs.Layout(title=\"Write Times\",\n",
    "                yaxis=dict(title='Time in Seconds'),\n",
    "                xaxis=dict(title='Embedding Count'))\n",
    "\n",
    "fig = plotly.graph_objs.Figure(data=data, layout=layout)\n",
    "\n",
    "plotly.offline.iplot(fig, filename='scatter-write')"
   ]
  },
  {
   "cell_type": "code",
   "execution_count": null,
   "metadata": {},
   "outputs": [],
   "source": []
  }
 ],
 "metadata": {
  "kernelspec": {
   "display_name": "Python 3",
   "language": "python",
   "name": "python3"
  },
  "language_info": {
   "codemirror_mode": {
    "name": "ipython",
    "version": 3
   },
   "file_extension": ".py",
   "mimetype": "text/x-python",
   "name": "python",
   "nbconvert_exporter": "python",
   "pygments_lexer": "ipython3",
   "version": "3.6.5"
  }
 },
 "nbformat": 4,
 "nbformat_minor": 2
}
