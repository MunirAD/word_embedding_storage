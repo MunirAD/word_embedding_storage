{
 "cells": [
  {
   "cell_type": "markdown",
   "metadata": {},
   "source": [
    "# Word Embeddings in LevelDB\n",
    "\n",
    "This example uses the [plyvel](https://plyvel.readthedocs.io/en/latest/) Connector within Python3 to store and retrieve various amounts of Word Embeddings."
   ]
  },
  {
   "cell_type": "code",
   "execution_count": null,
   "metadata": {},
   "outputs": [],
   "source": [
    "import plyvel\n",
    "import subprocess\n",
    "import shutil\n",
    "import io\n",
    "import time\n",
    "import numpy\n",
    "import plotly"
   ]
  },
  {
   "cell_type": "markdown",
   "metadata": {},
   "source": [
    "# Dummy Embeddings\n",
    "\n",
    "For testing purposes we will use randomly generated numpy arrays as dummy embbeddings."
   ]
  },
  {
   "cell_type": "code",
   "execution_count": null,
   "metadata": {},
   "outputs": [],
   "source": [
    "def embeddings(n=1000, dim=300):\n",
    "    \"\"\"\n",
    "    Yield n tuples of random numpy arrays of *dim* length indexed by *n*\n",
    "    \"\"\"\n",
    "    idx = 0\n",
    "    while idx < n:\n",
    "        yield (str(idx), numpy.random.rand(dim))\n",
    "        idx += 1"
   ]
  },
  {
   "cell_type": "markdown",
   "metadata": {},
   "source": [
    "# Conversion Functions\n",
    "\n",
    "Since we can't just save a NumPy array into the database, we will convert it into a BLOB."
   ]
  },
  {
   "cell_type": "code",
   "execution_count": null,
   "metadata": {},
   "outputs": [],
   "source": [
    "def adapt_array(array):\n",
    "    \"\"\"\n",
    "    Using the numpy.save function to save a binary version of the array,\n",
    "    and BytesIO to catch the stream of data and convert it into a BLOB.\n",
    "    \"\"\"\n",
    "    out = io.BytesIO()\n",
    "    numpy.save(out, array)\n",
    "    out.seek(0)\n",
    "\n",
    "    return out.read()\n",
    "\n",
    "def convert_array(blob):\n",
    "    \"\"\"\n",
    "    Using BytesIO to convert the binary version of the array back into a numpy array.\n",
    "    \"\"\"\n",
    "    out = io.BytesIO(blob)\n",
    "    out.seek(0)\n",
    "\n",
    "    return numpy.load(out)"
   ]
  },
  {
   "cell_type": "code",
   "execution_count": null,
   "metadata": {},
   "outputs": [],
   "source": [
    "connection = plyvel.DB('./leveldb.embedding.db', create_if_missing=True)"
   ]
  },
  {
   "cell_type": "code",
   "execution_count": null,
   "metadata": {},
   "outputs": [],
   "source": [
    "%%time\n",
    "for key, emb in embeddings():\n",
    "    arr = adapt_array(emb)\n",
    "    connection.put(key.encode(), arr)"
   ]
  },
  {
   "cell_type": "code",
   "execution_count": null,
   "metadata": {},
   "outputs": [],
   "source": [
    "%%time\n",
    "for key, _ in embeddings():\n",
    "    arr = connection.get(key.encode())\n",
    "    emb = convert_array(arr)\n",
    "    assert(type(emb) is numpy.ndarray)"
   ]
  },
  {
   "cell_type": "code",
   "execution_count": null,
   "metadata": {},
   "outputs": [],
   "source": [
    "connection.close()"
   ]
  },
  {
   "cell_type": "markdown",
   "metadata": {},
   "source": [
    "# Sample some data\n",
    "\n",
    "To test the I/O we will write and read some data from the database. This may take a while."
   ]
  },
  {
   "cell_type": "code",
   "execution_count": null,
   "metadata": {},
   "outputs": [],
   "source": [
    "write_times = []\n",
    "read_times = []\n",
    "db_sizes = []\n",
    "counts = [500, 1000, 5000, 10000, 50000, 100000]\n",
    "\n",
    "for c in counts:\n",
    "    shutil.rmtree('./leveldb.embedding.db', ignore_errors=True)\n",
    "    connection = plyvel.DB('./leveldb.embedding.db', create_if_missing=True)\n",
    "    \n",
    "    start_time_write = time.time()\n",
    "    for key, emb in embeddings(c):\n",
    "        arr = adapt_array(emb)\n",
    "        connection.put(key.encode(), arr)\n",
    "    write_times.append(time.time() - start_time_write)\n",
    "    \n",
    "    start_time_read = time.time()\n",
    "    for key, _ in embeddings(c):\n",
    "        arr = connection.get(key.encode())\n",
    "        emb = convert_array(arr)\n",
    "        assert(type(emb) is numpy.ndarray)\n",
    "    read_times.append(time.time() - start_time_read)\n",
    "\n",
    "    connection.close()\n",
    "    db_sized.append(subprocess.check_output(['du','-s', './leveldb.embedding.db']).split()[0].decode('utf-8'))\n",
    "    \n",
    "print('DONE')"
   ]
  },
  {
   "cell_type": "markdown",
   "metadata": {},
   "source": [
    "# Results"
   ]
  },
  {
   "cell_type": "code",
   "execution_count": null,
   "metadata": {},
   "outputs": [],
   "source": [
    "plotly.offline.init_notebook_mode(connected=True)\n",
    "trace = plotly.graph_objs.Scatter(\n",
    "    x = write_times,\n",
    "    y = counts,\n",
    "    mode = 'markers'\n",
    ")\n",
    "layout = plotly.graph_objs.Layout(title=\"LevelDB Write Times\",\n",
    "                xaxis=dict(title='Time in Seconds'),\n",
    "                yaxis=dict(title='Embedding Count'))\n",
    "data = [trace]\n",
    "fig = plotly.graph_objs.Figure(data=data, layout=layout)\n",
    "plotly.offline.iplot(fig, filename='jupyter-basic-scatter')"
   ]
  },
  {
   "cell_type": "code",
   "execution_count": null,
   "metadata": {},
   "outputs": [],
   "source": [
    "plotly.offline.init_notebook_mode(connected=True)\n",
    "trace = plotly.graph_objs.Scatter(\n",
    "    x = read_times,\n",
    "    y = counts,\n",
    "    mode = 'markers'\n",
    ")\n",
    "layout = plotly.graph_objs.Layout(title=\"LevelDB Read Times\",\n",
    "                xaxis=dict(title='Time in Seconds'),\n",
    "                yaxis=dict(title='Embedding Count'))\n",
    "data = [trace]\n",
    "fig = plotly.graph_objs.Figure(data=data, layout=layout)\n",
    "plotly.offline.iplot(fig, filename='jupyter-basic-scatter')"
   ]
  },
  {
   "cell_type": "code",
   "execution_count": null,
   "metadata": {},
   "outputs": [],
   "source": [
    "# DB Size\n",
    "plotly.offline.init_notebook_mode(connected=True)\n",
    "trace = plotly.graph_objs.Bar(\n",
    "    x = counts,\n",
    "    y = db_sizes\n",
    ")\n",
    "layout = plotly.graph_objs.Layout(title=\"Database Size\",\n",
    "                xaxis=dict(title='Size in KB'),\n",
    "                yaxis=dict(title='Embedding Count'))\n",
    "data = [trace]\n",
    "fig = plotly.graph_objs.Figure(data=data, layout=layout)\n",
    "plotly.offline.iplot(fig, filename='jupyter-basic_bar')"
   ]
  }
 ],
 "metadata": {
  "kernelspec": {
   "display_name": "Python 3",
   "language": "python",
   "name": "python3"
  },
  "language_info": {
   "codemirror_mode": {
    "name": "ipython",
    "version": 3
   },
   "file_extension": ".py",
   "mimetype": "text/x-python",
   "name": "python",
   "nbconvert_exporter": "python",
   "pygments_lexer": "ipython3",
   "version": "3.6.5"
  }
 },
 "nbformat": 4,
 "nbformat_minor": 2
}
